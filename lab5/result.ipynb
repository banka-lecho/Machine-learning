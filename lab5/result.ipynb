{
 "cells": [
  {
   "metadata": {},
   "cell_type": "markdown",
   "source": "# Импорты",
   "id": "d47830d64b0320f2"
  },
  {
   "metadata": {
    "ExecuteTime": {
     "end_time": "2024-10-16T06:01:28.736936Z",
     "start_time": "2024-10-16T06:01:28.729107Z"
    }
   },
   "cell_type": "code",
   "source": [
    "import warnings\n",
    "import pandas as pd\n",
    "from feature_extraction import *\n",
    "from sklearn.svm import LinearSVC\n",
    "from sklearn.feature_selection import RFE\n",
    "from sklearn.tree import DecisionTreeClassifier\n",
    "from sklearn.feature_selection import SelectKBest\n",
    "from sklearn.neighbors import KNeighborsClassifier\n",
    "from sklearn.feature_selection import SelectFromModel\n",
    "from sklearn.ensemble import GradientBoostingClassifier\n",
    "from sklearn.feature_extraction.text import TfidfVectorizer\n",
    "\n",
    "warnings.filterwarnings(\"ignore\")"
   ],
   "id": "3641537eb9b2976c",
   "execution_count": 55,
   "outputs": []
  },
  {
   "metadata": {},
   "cell_type": "markdown",
   "source": "# Преобразовываем датасет",
   "id": "e0f3cfd60b86fe05"
  },
  {
   "metadata": {
    "ExecuteTime": {
     "end_time": "2024-10-16T05:30:19.334450Z",
     "start_time": "2024-10-16T05:30:19.240047Z"
    }
   },
   "cell_type": "code",
   "source": [
    "def vectorize_text(df: pd.DataFrame) -> pd.DataFrame:\n",
    "    y = df['class'].apply(lambda y: 1 if y == 'ham' else -1).to_numpy()\n",
    "    vectorizer = TfidfVectorizer(min_df=0.005)\n",
    "    X = vectorizer.fit_transform(df.iloc[:, 1]).toarray()\n",
    "    columns = vectorizer.get_feature_names_out()\n",
    "    return X, y, columns\n",
    "\n",
    "\n",
    "df = pd.read_csv('data/SMS.tsv', sep='\\t')\n",
    "X, y, columns = vectorize_text(df)"
   ],
   "id": "b6417d687a12b4de",
   "execution_count": 2,
   "outputs": []
  },
  {
   "metadata": {},
   "cell_type": "markdown",
   "source": "# Фильтрирующий метод отбора признаков",
   "id": "3ac3a7f338e88ea"
  },
  {
   "metadata": {},
   "cell_type": "markdown",
   "source": "## Моя реализация",
   "id": "1ab679e33456f876"
  },
  {
   "metadata": {
    "ExecuteTime": {
     "end_time": "2024-10-16T05:30:21.488572Z",
     "start_time": "2024-10-16T05:30:21.263388Z"
    }
   },
   "cell_type": "code",
   "source": [
    "filter_method = FilterFeatureSelector(30)\n",
    "mutual_infos = filter_method.mutual_information(X, y)\n",
    "my_filter_features = filter_method.get_n_features(columns)\n",
    "print(\"Выбранные признаки:\\n\", \" \".join(my_filter_features))"
   ],
   "id": "73738c056876b2f",
   "execution_count": 3,
   "outputs": []
  },
  {
   "metadata": {},
   "cell_type": "markdown",
   "source": "## SKlearn реализация",
   "id": "cd3dce0b372ac26d"
  },
  {
   "metadata": {
    "ExecuteTime": {
     "end_time": "2024-10-16T05:30:22.899701Z",
     "start_time": "2024-10-16T05:30:22.876502Z"
    }
   },
   "cell_type": "code",
   "source": [
    "selector = SelectKBest(k=30)\n",
    "selector.fit(pd.DataFrame(X, columns=columns), pd.DataFrame(y))\n",
    "sklearn_filter_features = selector.get_feature_names_out()\n",
    "print(\"Выбранные признаки:\\n\", \" \".join(sklearn_filter_features))"
   ],
   "id": "5fa327b43f3ee63b",
   "execution_count": 4,
   "outputs": []
  },
  {
   "metadata": {},
   "cell_type": "markdown",
   "source": "## Сравнение",
   "id": "2a8fe5f1ef0addb2"
  },
  {
   "metadata": {
    "ExecuteTime": {
     "end_time": "2024-10-16T05:30:26.163949Z",
     "start_time": "2024-10-16T05:30:26.160454Z"
    }
   },
   "cell_type": "code",
   "source": "print(\"Количество совпадений = \", len(set(my_filter_features).intersection(sklearn_filter_features)))",
   "id": "c9b83c58e08de9fa",
   "execution_count": 5,
   "outputs": []
  },
  {
   "metadata": {},
   "cell_type": "markdown",
   "source": "# Встроенный метод",
   "id": "213d27a16f9b7bd2"
  },
  {
   "metadata": {},
   "cell_type": "markdown",
   "source": "## Моя реализация",
   "id": "70745b4955e0c7ec"
  },
  {
   "metadata": {
    "ExecuteTime": {
     "end_time": "2024-10-16T05:42:15.537676Z",
     "start_time": "2024-10-16T05:42:15.527704Z"
    }
   },
   "cell_type": "code",
   "source": "X, y = pd.DataFrame(X, columns=columns), pd.DataFrame(y)",
   "id": "130aa5184d3d3d1c",
   "execution_count": 35,
   "outputs": []
  },
  {
   "metadata": {
    "ExecuteTime": {
     "end_time": "2024-10-16T05:42:18.294181Z",
     "start_time": "2024-10-16T05:42:17.135248Z"
    }
   },
   "cell_type": "code",
   "source": [
    "my_embedded_selector = EmbeddedFeatureSelector(n_features=30)\n",
    "my_embedded_selector.fit(X, y)\n",
    "my_embedded_features = my_embedded_selector.selected_features_\n",
    "print(\"Выбранные признаки:\\n\", \" \".join(my_embedded_features))"
   ],
   "id": "b34d90820623f74b",
   "execution_count": 36,
   "outputs": []
  },
  {
   "metadata": {},
   "cell_type": "markdown",
   "source": "## Sklearn реализация",
   "id": "730e3363423d969e"
  },
  {
   "metadata": {
    "ExecuteTime": {
     "end_time": "2024-10-16T05:42:27.630980Z",
     "start_time": "2024-10-16T05:42:27.201158Z"
    }
   },
   "cell_type": "code",
   "source": [
    "embedded_selector = SelectFromModel(estimator=DecisionTreeClassifier(), max_features=30)\n",
    "embedded_selector.fit(X, y)\n",
    "sklearn_embedded_features = embedded_selector.get_feature_names_out()\n",
    "print(\"Выбранные признаки:\\n\", \" \".join(sklearn_embedded_features))"
   ],
   "id": "4e40cb3daf8c66c6",
   "execution_count": 37,
   "outputs": []
  },
  {
   "metadata": {},
   "cell_type": "markdown",
   "source": "## Сравнение",
   "id": "420b62d25e35be9a"
  },
  {
   "metadata": {
    "ExecuteTime": {
     "end_time": "2024-10-16T05:42:29.996535Z",
     "start_time": "2024-10-16T05:42:29.992241Z"
    }
   },
   "cell_type": "code",
   "source": "print(\"Количество совпадений = \", len(set(my_embedded_features).intersection(sklearn_embedded_features)))",
   "id": "47f76584a3adfffb",
   "execution_count": 38,
   "outputs": []
  },
  {
   "metadata": {},
   "cell_type": "markdown",
   "source": "# Метод обёртка",
   "id": "711cdb76bb2755a3"
  },
  {
   "metadata": {},
   "cell_type": "markdown",
   "source": "## Моя реализация",
   "id": "4f0ca5ac21e7d19f"
  },
  {
   "metadata": {
    "ExecuteTime": {
     "end_time": "2024-10-16T05:44:00.789319Z",
     "start_time": "2024-10-16T05:42:38.499130Z"
    }
   },
   "cell_type": "code",
   "source": [
    "wrapper_selector = WrapperFeatureSelector()\n",
    "my_wrapper_features = wrapper_selector.select_features(X, y, 30)\n",
    "print(\"Выбранные признаки:\\n\", \" \".join(my_wrapper_features))"
   ],
   "id": "fba8fbf6ebebbf6f",
   "execution_count": 39,
   "outputs": []
  },
  {
   "metadata": {},
   "cell_type": "markdown",
   "source": "## Sklearn реализация",
   "id": "34164a281374e24e"
  },
  {
   "metadata": {
    "ExecuteTime": {
     "end_time": "2024-10-16T05:45:48.663438Z",
     "start_time": "2024-10-16T05:45:44.157683Z"
    }
   },
   "cell_type": "code",
   "source": [
    "svc_ectimator = LinearSVC(dual='auto')\n",
    "selector = RFE(estimator=svc_ectimator, n_features_to_select=30)\n",
    "selector.fit(X, y)\n",
    "sklearn_wrapper_features = selector.get_feature_names_out()\n",
    "print(\"Выбранные признаки:\\n\", \" \".join(sklearn_wrapper_features))"
   ],
   "id": "58647f924684bfd8",
   "execution_count": 40,
   "outputs": []
  },
  {
   "metadata": {},
   "cell_type": "markdown",
   "source": "## Сравнение",
   "id": "2439eaa3a6ca1f86"
  },
  {
   "metadata": {
    "ExecuteTime": {
     "end_time": "2024-10-16T05:45:51.518630Z",
     "start_time": "2024-10-16T05:45:51.514503Z"
    }
   },
   "cell_type": "code",
   "source": "print(\"Количество совпадений = \", len(set(my_wrapper_features).intersection(sklearn_wrapper_features)))",
   "id": "98d7448e540ebf89",
   "execution_count": 41,
   "outputs": []
  },
  {
   "metadata": {},
   "cell_type": "markdown",
   "source": "# Обучение 3-х классификаторах на новом признаковом пространстве",
   "id": "f45828e9f6124a49"
  },
  {
   "metadata": {
    "ExecuteTime": {
     "end_time": "2024-10-16T05:46:40.132316Z",
     "start_time": "2024-10-16T05:46:40.123981Z"
    }
   },
   "cell_type": "code",
   "source": [
    "from sklearn.model_selection import train_test_split\n",
    "\n",
    "selected_features = {'embedded': my_embedded_features, 'filter': my_filter_features,\n",
    "                     'wrapper': my_wrapper_features}\n",
    "X_train, X_test, y_train, y_test = train_test_split(X, y, train_size=0.7)"
   ],
   "id": "ef1df57e05ada3f1",
   "execution_count": 44,
   "outputs": []
  },
  {
   "metadata": {
    "ExecuteTime": {
     "end_time": "2024-10-16T06:02:13.427667Z",
     "start_time": "2024-10-16T06:02:13.422919Z"
    }
   },
   "cell_type": "code",
   "source": [
    "def test_train_estimator(cls, model_name):\n",
    "    classifier = cls()\n",
    "    classifier.fit(X_train, y_train)\n",
    "    print(model_name)\n",
    "    print('Before selection: ', f1_score(y_test, classifier.predict(X_test)))\n",
    "    for (method, features) in selected_features.items():\n",
    "        X_subset_train = X_train[features]\n",
    "        X_subset_test = X_test[features]\n",
    "        classifier.fit(X_subset_train, y_train)\n",
    "        print(f'After {method} selection: {f1_score(y_test, classifier.predict(X_subset_test))}')"
   ],
   "id": "926ef92d658eeeec",
   "execution_count": 57,
   "outputs": []
  },
  {
   "metadata": {
    "ExecuteTime": {
     "end_time": "2024-10-16T06:02:14.395344Z",
     "start_time": "2024-10-16T06:02:14.120701Z"
    }
   },
   "cell_type": "code",
   "source": "test_train_estimator(DecisionTreeClassifier, \"DECISION TREE\")",
   "id": "d5fe4b9c592e133b",
   "execution_count": 58,
   "outputs": []
  },
  {
   "metadata": {
    "ExecuteTime": {
     "end_time": "2024-10-16T06:02:17.018305Z",
     "start_time": "2024-10-16T06:02:14.575267Z"
    }
   },
   "cell_type": "code",
   "source": "test_train_estimator(GradientBoostingClassifier, \"GRADIENT BOOSTING\")",
   "id": "dfd27e588d629cc7",
   "execution_count": 59,
   "outputs": []
  },
  {
   "metadata": {
    "ExecuteTime": {
     "end_time": "2024-10-16T06:02:19.780994Z",
     "start_time": "2024-10-16T06:02:19.604113Z"
    }
   },
   "cell_type": "code",
   "source": "test_train_estimator(KNeighborsClassifier, \"KNN\")",
   "id": "6b7c95d11c5deafd",
   "execution_count": 60,
   "outputs": []
  }
 ],
 "metadata": {
  "kernelspec": {
   "display_name": "Python 3",
   "language": "python",
   "name": "python3"
  },
  "language_info": {
   "codemirror_mode": {
    "name": "ipython",
    "version": 2
   },
   "file_extension": ".py",
   "mimetype": "text/x-python",
   "name": "python",
   "nbconvert_exporter": "python",
   "pygments_lexer": "ipython2",
   "version": "2.7.6"
  }
 },
 "nbformat": 4,
 "nbformat_minor": 5
}
