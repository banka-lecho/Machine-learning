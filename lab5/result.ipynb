{
 "cells": [
  {
   "metadata": {},
   "cell_type": "markdown",
   "source": "# Импорты",
   "id": "d47830d64b0320f2"
  },
  {
   "metadata": {
    "ExecuteTime": {
     "end_time": "2024-09-12T14:00:10.362049Z",
     "start_time": "2024-09-12T14:00:09.796676Z"
    }
   },
   "cell_type": "code",
   "source": [
    "from sklearn.feature_selection import chi2\n",
    "from sklearn.feature_selection import SelectKBest\n",
    "import pandas as pd\n",
    "import numpy as np\n",
    "from sklearn.feature_extraction.text import CountVectorizer\n",
    "from scipy import stats"
   ],
   "id": "3641537eb9b2976c",
   "outputs": [],
   "execution_count": 4
  },
  {
   "metadata": {},
   "cell_type": "markdown",
   "source": "# Преобразовываем датасет",
   "id": "e0f3cfd60b86fe05"
  },
  {
   "metadata": {
    "ExecuteTime": {
     "end_time": "2024-09-12T14:02:34.476719Z",
     "start_time": "2024-09-12T14:02:34.401289Z"
    }
   },
   "cell_type": "code",
   "source": [
    "def vectorize_text(df):\n",
    "    vectorizer = CountVectorizer()\n",
    "    X = vectorizer.fit_transform(df['text'])\n",
    "    y = df['class'].values\n",
    "    return X, y, vectorizer.get_feature_names_out(), vectorizer\n",
    "\n",
    "df = pd.read_csv('data/SMS.tsv', sep='\\t')\n",
    "X, y, feature_names, vectorizer = vectorize_text(df)"
   ],
   "id": "b6417d687a12b4de",
   "outputs": [],
   "execution_count": 13
  },
  {
   "metadata": {
    "ExecuteTime": {
     "end_time": "2024-09-12T14:13:22.264741Z",
     "start_time": "2024-09-12T14:13:22.259702Z"
    }
   },
   "cell_type": "code",
   "source": "len(feature_names)",
   "id": "fa41c08232cc3314",
   "outputs": [
    {
     "data": {
      "text/plain": [
       "8713"
      ]
     },
     "execution_count": 26,
     "metadata": {},
     "output_type": "execute_result"
    }
   ],
   "execution_count": 26
  },
  {
   "metadata": {},
   "cell_type": "markdown",
   "source": "# Фильтрирующий метод отбора признаков",
   "id": "3ac3a7f338e88ea"
  },
  {
   "metadata": {},
   "cell_type": "markdown",
   "source": "## Моя реализация",
   "id": "1ab679e33456f876"
  },
  {
   "metadata": {
    "ExecuteTime": {
     "end_time": "2024-09-12T14:05:39.596741Z",
     "start_time": "2024-09-12T14:05:39.590919Z"
    }
   },
   "cell_type": "code",
   "source": [
    "def select_k_best_features_ttest(X, y, feature_names, k):\n",
    "    p_values = []\n",
    "    # Проходимся по всем признакам\n",
    "    for index in range(X.shape[1]):\n",
    "        group1 = X[y == 0][:, index].toarray()\n",
    "        group2 = X[y == 1][:, index].toarray()\n",
    "        # Если признак не встречается в одной из групп, пропускаем\n",
    "        if np.sum(group1) == 0 or np.sum(group2) == 0:\n",
    "            p_values.append(1)  # Максимальное p-value для пропусков\n",
    "            continue\n",
    "        t_stat, p_val = stats.ttest_ind(group1, group2, equal_var=False)\n",
    "        p_values.append(p_val)\n",
    "\n",
    "    # Сортируем по p-value и выбираем k лучших\n",
    "    p_value_df = pd.DataFrame({'feature': feature_names, 'p_value': p_values})\n",
    "    best_features = p_value_df.nsmallest(k, 'p_value')['feature'].tolist()\n",
    "    return best_features"
   ],
   "id": "151237377586bea1",
   "outputs": [],
   "execution_count": 16
  },
  {
   "metadata": {
    "ExecuteTime": {
     "end_time": "2024-09-12T14:12:56.708270Z",
     "start_time": "2024-09-12T14:12:54.916085Z"
    }
   },
   "cell_type": "code",
   "source": [
    "# Отбор признаков\n",
    "k = 30  # Количество признаков для выбора\n",
    "best_features = select_k_best_features_ttest(X, y, feature_names, k)\n",
    "print(\"Наиболее значимые признаки (слова):\", best_features)"
   ],
   "id": "979d5fa779017861",
   "outputs": [
    {
     "name": "stdout",
     "output_type": "stream",
     "text": [
      "Наиболее значимые признаки (слова): ['00', '000', '000pes', '008704050406', '0089', '0121', '01223585236', '01223585334', '0125698789', '02', '0207', '02072069400', '02073162414', '02085076972', '021', '03', '04', '0430', '05', '050703', '0578', '06', '07', '07008009200', '07046744435', '07090201529', '07090298926', '07099833605', '07123456789', '0721072']\n"
     ]
    }
   ],
   "execution_count": 24
  },
  {
   "metadata": {},
   "cell_type": "markdown",
   "source": "## SKlearn реализация",
   "id": "cd3dce0b372ac26d"
  },
  {
   "metadata": {},
   "cell_type": "code",
   "outputs": [],
   "execution_count": null,
   "source": [
    "# создаем объект SelectKBest с указанием метода отбора признаков (например, chi2)\n",
    "selector = SelectKBest(score_func=chi2, k=5) # отбираем 5 лучших признаков\n",
    "\n",
    "# подготавливаем данные (X - матрица признаков, y - вектор меток)\n",
    "X_new = selector.fit_transform(X, y)\n",
    "\n",
    "# получаем индексы отобранных признаков\n",
    "selected_features = selector.get_support(indices=True)\n",
    "\n",
    "# выводим индексы отобранных признаков\n",
    "print(selected_features)"
   ],
   "id": "bc251e0a80b9c458"
  }
 ],
 "metadata": {
  "kernelspec": {
   "display_name": "Python 3",
   "language": "python",
   "name": "python3"
  },
  "language_info": {
   "codemirror_mode": {
    "name": "ipython",
    "version": 2
   },
   "file_extension": ".py",
   "mimetype": "text/x-python",
   "name": "python",
   "nbconvert_exporter": "python",
   "pygments_lexer": "ipython2",
   "version": "2.7.6"
  }
 },
 "nbformat": 4,
 "nbformat_minor": 5
}
