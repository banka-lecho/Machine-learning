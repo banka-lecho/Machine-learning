{
  "cells": [
    {
      "metadata": {
        "id": "d47830d64b0320f2"
      },
      "cell_type": "markdown",
      "source": [
        "# Импорты"
      ],
      "id": "d47830d64b0320f2"
    },
    {
      "metadata": {
        "ExecuteTime": {
          "end_time": "2024-10-16T06:01:28.736936Z",
          "start_time": "2024-10-16T06:01:28.729107Z"
        },
        "id": "3641537eb9b2976c"
      },
      "cell_type": "code",
      "source": [
        "import warnings\n",
        "import pandas as pd\n",
        "from feature_extraction import *\n",
        "from sklearn.svm import LinearSVC\n",
        "from sklearn.feature_selection import RFE\n",
        "from sklearn.tree import DecisionTreeClassifier\n",
        "from sklearn.feature_selection import SelectKBest\n",
        "from sklearn.neighbors import KNeighborsClassifier\n",
        "from sklearn.feature_selection import SelectFromModel\n",
        "from sklearn.ensemble import GradientBoostingClassifier\n",
        "from sklearn.feature_extraction.text import TfidfVectorizer\n",
        "\n",
        "warnings.filterwarnings(\"ignore\")"
      ],
      "id": "3641537eb9b2976c",
      "execution_count": 1,
      "outputs": []
    },
    {
      "metadata": {
        "id": "e0f3cfd60b86fe05"
      },
      "cell_type": "markdown",
      "source": [
        "# Преобразовываем датасет"
      ],
      "id": "e0f3cfd60b86fe05"
    },
    {
      "metadata": {
        "ExecuteTime": {
          "end_time": "2024-10-16T05:30:19.334450Z",
          "start_time": "2024-10-16T05:30:19.240047Z"
        },
        "id": "b6417d687a12b4de"
      },
      "cell_type": "code",
      "source": [
        "def vectorize_text(df: pd.DataFrame) -> pd.DataFrame:\n",
        "    y = df['class'].apply(lambda y: 1 if y == 'ham' else -1).to_numpy()\n",
        "    vectorizer = TfidfVectorizer(min_df=0.005)\n",
        "    X = vectorizer.fit_transform(df.iloc[:, 1]).toarray()\n",
        "    columns = vectorizer.get_feature_names_out()\n",
        "    return X, y, columns\n",
        "\n",
        "\n",
        "df = pd.read_csv('data/SMS.tsv', sep='\\t')\n",
        "X, y, columns = vectorize_text(df)"
      ],
      "id": "b6417d687a12b4de",
      "execution_count": 3,
      "outputs": []
    },
    {
      "metadata": {
        "id": "3ac3a7f338e88ea"
      },
      "cell_type": "markdown",
      "source": [
        "# Фильтрирующий метод отбора признаков"
      ],
      "id": "3ac3a7f338e88ea"
    },
    {
      "metadata": {
        "id": "1ab679e33456f876"
      },
      "cell_type": "markdown",
      "source": [
        "## Моя реализация"
      ],
      "id": "1ab679e33456f876"
    },
    {
      "metadata": {
        "ExecuteTime": {
          "end_time": "2024-10-16T05:30:21.488572Z",
          "start_time": "2024-10-16T05:30:21.263388Z"
        },
        "colab": {
          "base_uri": "https://localhost:8080/"
        },
        "id": "73738c056876b2f",
        "outputId": "1903d874-d255-4391-ae80-a25eb6a0c85f"
      },
      "cell_type": "code",
      "source": [
        "filter_method = FilterFeatureSelector(30)\n",
        "mutual_infos = filter_method.mutual_information(X, y)\n",
        "my_filter_features = filter_method.get_n_features(columns)\n",
        "print(\"Выбранные признаки:\\n\", \" \".join(my_filter_features))"
      ],
      "id": "73738c056876b2f",
      "execution_count": 4,
      "outputs": [
        {
          "output_type": "stream",
          "name": "stdout",
          "text": [
            "Выбранные признаки:\n",
            " my me it in but that you so not can how ok at gt lt do ll and when come got what if up then its good he like was\n"
          ]
        }
      ]
    },
    {
      "metadata": {
        "id": "cd3dce0b372ac26d"
      },
      "cell_type": "markdown",
      "source": [
        "## SKlearn реализация"
      ],
      "id": "cd3dce0b372ac26d"
    },
    {
      "metadata": {
        "ExecuteTime": {
          "end_time": "2024-10-16T05:30:22.899701Z",
          "start_time": "2024-10-16T05:30:22.876502Z"
        },
        "colab": {
          "base_uri": "https://localhost:8080/"
        },
        "id": "5fa327b43f3ee63b",
        "outputId": "ded7f2ed-4a31-42e7-caa4-ffc271a03705"
      },
      "cell_type": "code",
      "source": [
        "selector = SelectKBest(k=30)\n",
        "selector.fit(pd.DataFrame(X, columns=columns), pd.DataFrame(y))\n",
        "sklearn_filter_features = selector.get_feature_names_out()\n",
        "print(\"Выбранные признаки:\\n\", \" \".join(sklearn_filter_features))"
      ],
      "id": "5fa327b43f3ee63b",
      "execution_count": 5,
      "outputs": [
        {
          "output_type": "stream",
          "name": "stdout",
          "text": [
            "Выбранные признаки:\n",
            " 1000 150p 16 18 50 500 awarded call cash claim co contact cs free guaranteed mobile nokia prize reply service stop text to tone txt uk urgent win won www\n"
          ]
        }
      ]
    },
    {
      "metadata": {
        "id": "2a8fe5f1ef0addb2"
      },
      "cell_type": "markdown",
      "source": [
        "## Сравнение"
      ],
      "id": "2a8fe5f1ef0addb2"
    },
    {
      "metadata": {
        "ExecuteTime": {
          "end_time": "2024-10-16T05:30:26.163949Z",
          "start_time": "2024-10-16T05:30:26.160454Z"
        },
        "colab": {
          "base_uri": "https://localhost:8080/"
        },
        "id": "c9b83c58e08de9fa",
        "outputId": "888f3885-8986-40d3-dba2-6650ec9f4665"
      },
      "cell_type": "code",
      "source": [
        "print(\"Количество совпадений = \", len(set(my_filter_features).intersection(sklearn_filter_features)))"
      ],
      "id": "c9b83c58e08de9fa",
      "execution_count": 6,
      "outputs": [
        {
          "output_type": "stream",
          "name": "stdout",
          "text": [
            "Количество совпадений =  0\n"
          ]
        }
      ]
    },
    {
      "metadata": {
        "id": "213d27a16f9b7bd2"
      },
      "cell_type": "markdown",
      "source": [
        "# Встроенный метод"
      ],
      "id": "213d27a16f9b7bd2"
    },
    {
      "metadata": {
        "id": "70745b4955e0c7ec"
      },
      "cell_type": "markdown",
      "source": [
        "## Моя реализация"
      ],
      "id": "70745b4955e0c7ec"
    },
    {
      "metadata": {
        "ExecuteTime": {
          "end_time": "2024-10-16T05:42:15.537676Z",
          "start_time": "2024-10-16T05:42:15.527704Z"
        },
        "id": "130aa5184d3d3d1c"
      },
      "cell_type": "code",
      "source": [
        "X, y = pd.DataFrame(X, columns=columns), pd.DataFrame(y)"
      ],
      "id": "130aa5184d3d3d1c",
      "execution_count": 7,
      "outputs": []
    },
    {
      "metadata": {
        "ExecuteTime": {
          "end_time": "2024-10-16T05:42:18.294181Z",
          "start_time": "2024-10-16T05:42:17.135248Z"
        },
        "colab": {
          "base_uri": "https://localhost:8080/"
        },
        "id": "b34d90820623f74b",
        "outputId": "a753bfe4-13b6-4113-fcc4-7477711bc1b2"
      },
      "cell_type": "code",
      "source": [
        "my_embedded_selector = EmbeddedFeatureSelector(n_features=30)\n",
        "my_embedded_selector.fit(X, y)\n",
        "my_embedded_features = my_embedded_selector.selected_features_\n",
        "print(\"Выбранные признаки:\\n\", \" \".join(my_embedded_features))"
      ],
      "id": "b34d90820623f74b",
      "execution_count": 8,
      "outputs": [
        {
          "output_type": "stream",
          "name": "stdout",
          "text": [
            "Выбранные признаки:\n",
            " from won code cash contact urgent co 500 18 16 com now 50 or win text your service reply to stop uk 150p claim www prize mobile free txt call\n"
          ]
        }
      ]
    },
    {
      "metadata": {
        "id": "730e3363423d969e"
      },
      "cell_type": "markdown",
      "source": [
        "## Sklearn реализация"
      ],
      "id": "730e3363423d969e"
    },
    {
      "metadata": {
        "ExecuteTime": {
          "end_time": "2024-10-16T05:42:27.630980Z",
          "start_time": "2024-10-16T05:42:27.201158Z"
        },
        "colab": {
          "base_uri": "https://localhost:8080/"
        },
        "id": "4e40cb3daf8c66c6",
        "outputId": "fb30964a-5891-4aee-db70-3768c546a234"
      },
      "cell_type": "code",
      "source": [
        "embedded_selector = SelectFromModel(estimator=DecisionTreeClassifier(), max_features=30)\n",
        "embedded_selector.fit(X, y)\n",
        "sklearn_embedded_features = embedded_selector.get_feature_names_out()\n",
        "print(\"Выбранные признаки:\\n\", \" \".join(sklearn_embedded_features))"
      ],
      "id": "4e40cb3daf8c66c6",
      "execution_count": 9,
      "outputs": [
        {
          "output_type": "stream",
          "name": "stdout",
          "text": [
            "Выбранные признаки:\n",
            " 150p 18 call chat claim free from get gt have in me min mobile my nokia now real ringtone service shows sms stop to txt uk win www you your\n"
          ]
        }
      ]
    },
    {
      "metadata": {
        "id": "420b62d25e35be9a"
      },
      "cell_type": "markdown",
      "source": [
        "## Сравнение"
      ],
      "id": "420b62d25e35be9a"
    },
    {
      "metadata": {
        "ExecuteTime": {
          "end_time": "2024-10-16T05:42:29.996535Z",
          "start_time": "2024-10-16T05:42:29.992241Z"
        },
        "colab": {
          "base_uri": "https://localhost:8080/"
        },
        "id": "47f76584a3adfffb",
        "outputId": "ceba3d0e-2374-4e4c-f6bc-838a90d48c63"
      },
      "cell_type": "code",
      "source": [
        "print(\"Количество совпадений = \", len(set(my_embedded_features).intersection(sklearn_embedded_features)))"
      ],
      "id": "47f76584a3adfffb",
      "execution_count": 10,
      "outputs": [
        {
          "output_type": "stream",
          "name": "stdout",
          "text": [
            "Количество совпадений =  16\n"
          ]
        }
      ]
    },
    {
      "metadata": {
        "id": "711cdb76bb2755a3"
      },
      "cell_type": "markdown",
      "source": [
        "# Метод обёртка"
      ],
      "id": "711cdb76bb2755a3"
    },
    {
      "metadata": {
        "id": "4f0ca5ac21e7d19f"
      },
      "cell_type": "markdown",
      "source": [
        "## Моя реализация"
      ],
      "id": "4f0ca5ac21e7d19f"
    },
    {
      "metadata": {
        "ExecuteTime": {
          "end_time": "2024-10-16T05:44:00.789319Z",
          "start_time": "2024-10-16T05:42:38.499130Z"
        },
        "colab": {
          "base_uri": "https://localhost:8080/"
        },
        "id": "fba8fbf6ebebbf6f",
        "outputId": "40c9e41c-eb59-48c3-e720-940b6e2fd341"
      },
      "cell_type": "code",
      "source": [
        "wrapper_selector = WrapperFeatureSelector()\n",
        "my_wrapper_features = wrapper_selector.select_features(X, y, 30)\n",
        "print(\"Выбранные признаки:\\n\", \" \".join(my_wrapper_features))"
      ],
      "id": "fba8fbf6ebebbf6f",
      "execution_count": 11,
      "outputs": [
        {
          "output_type": "stream",
          "name": "stdout",
          "text": [
            "Выбранные признаки:\n",
            " txt claim mobile www service 150p 16 50 video landline uk rate code orange ringtone my prize free 500 at line 18 text apply something cool network pa pay every\n"
          ]
        }
      ]
    },
    {
      "metadata": {
        "id": "34164a281374e24e"
      },
      "cell_type": "markdown",
      "source": [
        "## Sklearn реализация"
      ],
      "id": "34164a281374e24e"
    },
    {
      "metadata": {
        "ExecuteTime": {
          "end_time": "2024-10-16T05:45:48.663438Z",
          "start_time": "2024-10-16T05:45:44.157683Z"
        },
        "colab": {
          "base_uri": "https://localhost:8080/"
        },
        "id": "58647f924684bfd8",
        "outputId": "4102d9bd-51f7-422b-d9d1-a8b4ca5d7392"
      },
      "cell_type": "code",
      "source": [
        "svc_ectimator = LinearSVC(dual='auto')\n",
        "selector = RFE(estimator=svc_ectimator, n_features_to_select=30)\n",
        "selector.fit(X, y)\n",
        "sklearn_wrapper_features = selector.get_feature_names_out()\n",
        "print(\"Выбранные признаки:\\n\", \" \".join(sklearn_wrapper_features))"
      ],
      "id": "58647f924684bfd8",
      "execution_count": 12,
      "outputs": [
        {
          "output_type": "stream",
          "name": "stdout",
          "text": [
            "Выбранные признаки:\n",
            " 100 1000 150p 18 50 500 apply awarded chat claim code landline latest lt mobile nokia orange per prize rate reply ringtone service text tone txt uk urgent video www\n"
          ]
        }
      ]
    },
    {
      "metadata": {
        "id": "2439eaa3a6ca1f86"
      },
      "cell_type": "markdown",
      "source": [
        "## Сравнение"
      ],
      "id": "2439eaa3a6ca1f86"
    },
    {
      "metadata": {
        "ExecuteTime": {
          "end_time": "2024-10-16T05:45:51.518630Z",
          "start_time": "2024-10-16T05:45:51.514503Z"
        },
        "colab": {
          "base_uri": "https://localhost:8080/"
        },
        "id": "98d7448e540ebf89",
        "outputId": "19284d09-1f0b-4379-e201-ecd2bf70fb8b"
      },
      "cell_type": "code",
      "source": [
        "print(\"Количество совпадений = \", len(set(my_wrapper_features).intersection(sklearn_wrapper_features)))"
      ],
      "id": "98d7448e540ebf89",
      "execution_count": 13,
      "outputs": [
        {
          "output_type": "stream",
          "name": "stdout",
          "text": [
            "Количество совпадений =  19\n"
          ]
        }
      ]
    },
    {
      "metadata": {
        "id": "f45828e9f6124a49"
      },
      "cell_type": "markdown",
      "source": [
        "# Обучение 3-х классификаторах на новом признаковом пространстве"
      ],
      "id": "f45828e9f6124a49"
    },
    {
      "metadata": {
        "ExecuteTime": {
          "end_time": "2024-10-16T05:46:40.132316Z",
          "start_time": "2024-10-16T05:46:40.123981Z"
        },
        "id": "ef1df57e05ada3f1"
      },
      "cell_type": "code",
      "source": [
        "from sklearn.model_selection import train_test_split\n",
        "\n",
        "selected_features = {'embedded': my_embedded_features, 'filter': my_filter_features,\n",
        "                     'wrapper': my_wrapper_features}\n",
        "X_train, X_test, y_train, y_test = train_test_split(X, y, train_size=0.7)"
      ],
      "id": "ef1df57e05ada3f1",
      "execution_count": 15,
      "outputs": []
    },
    {
      "metadata": {
        "ExecuteTime": {
          "end_time": "2024-10-16T06:02:13.427667Z",
          "start_time": "2024-10-16T06:02:13.422919Z"
        },
        "id": "926ef92d658eeeec"
      },
      "cell_type": "code",
      "source": [
        "def test_train_estimator(cls, model_name):\n",
        "    classifier = cls()\n",
        "    classifier.fit(X_train, y_train)\n",
        "    print(model_name)\n",
        "    print('Before selection: ', f1_score(y_test, classifier.predict(X_test)))\n",
        "    for (method, features) in selected_features.items():\n",
        "        X_subset_train = X_train[features]\n",
        "        X_subset_test = X_test[features]\n",
        "        classifier.fit(X_subset_train, y_train)\n",
        "        print(f'After {method} selection: {f1_score(y_test, classifier.predict(X_subset_test))}')"
      ],
      "id": "926ef92d658eeeec",
      "execution_count": 16,
      "outputs": []
    },
    {
      "metadata": {
        "ExecuteTime": {
          "end_time": "2024-10-16T06:02:14.395344Z",
          "start_time": "2024-10-16T06:02:14.120701Z"
        },
        "colab": {
          "base_uri": "https://localhost:8080/"
        },
        "id": "d5fe4b9c592e133b",
        "outputId": "f1bef629-6fe2-492a-8082-09b569950281"
      },
      "cell_type": "code",
      "source": [
        "test_train_estimator(DecisionTreeClassifier, \"DECISION TREE\")"
      ],
      "id": "d5fe4b9c592e133b",
      "execution_count": 17,
      "outputs": [
        {
          "output_type": "stream",
          "name": "stdout",
          "text": [
            "DECISION TREE\n",
            "Before selection:  0.9818430969510106\n",
            "After embedded selection: 0.9777929620772121\n",
            "After filter selection: 0.934453781512605\n",
            "After wrapper selection: 0.9787234042553191\n"
          ]
        }
      ]
    },
    {
      "metadata": {
        "ExecuteTime": {
          "end_time": "2024-10-16T06:02:17.018305Z",
          "start_time": "2024-10-16T06:02:14.575267Z"
        },
        "colab": {
          "base_uri": "https://localhost:8080/"
        },
        "id": "dfd27e588d629cc7",
        "outputId": "c3ead660-fa05-45ce-cec9-988435818926"
      },
      "cell_type": "code",
      "source": [
        "test_train_estimator(GradientBoostingClassifier, \"GRADIENT BOOSTING\")"
      ],
      "id": "dfd27e588d629cc7",
      "execution_count": 18,
      "outputs": [
        {
          "output_type": "stream",
          "name": "stdout",
          "text": [
            "GRADIENT BOOSTING\n",
            "Before selection:  0.9894378194207837\n",
            "After embedded selection: 0.9874106839060905\n",
            "After filter selection: 0.9382875605815832\n",
            "After wrapper selection: 0.9803523035230353\n"
          ]
        }
      ]
    },
    {
      "metadata": {
        "ExecuteTime": {
          "end_time": "2024-10-16T06:02:19.780994Z",
          "start_time": "2024-10-16T06:02:19.604113Z"
        },
        "colab": {
          "base_uri": "https://localhost:8080/"
        },
        "id": "6b7c95d11c5deafd",
        "outputId": "cd6621ee-9447-44fb-93f4-0674973c81dc"
      },
      "cell_type": "code",
      "source": [
        "test_train_estimator(KNeighborsClassifier, \"KNN\")"
      ],
      "id": "6b7c95d11c5deafd",
      "execution_count": 19,
      "outputs": [
        {
          "output_type": "stream",
          "name": "stdout",
          "text": [
            "KNN\n",
            "Before selection:  0.9674634794156707\n",
            "After embedded selection: 0.9803921568627451\n",
            "After filter selection: 0.938255033557047\n",
            "After wrapper selection: 0.9826471588975842\n"
          ]
        }
      ]
    }
  ],
  "metadata": {
    "kernelspec": {
      "display_name": "Python 3",
      "name": "python3"
    },
    "language_info": {
      "codemirror_mode": {
        "name": "ipython",
        "version": 2
      },
      "file_extension": ".py",
      "mimetype": "text/x-python",
      "name": "python",
      "nbconvert_exporter": "python",
      "pygments_lexer": "ipython2",
      "version": "2.7.6"
    },
    "colab": {
      "provenance": [],
      "collapsed_sections": [
        "d47830d64b0320f2"
      ]
    }
  },
  "nbformat": 4,
  "nbformat_minor": 5
}