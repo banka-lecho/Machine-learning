{
 "cells": [
  {
   "cell_type": "markdown",
   "id": "49074f3a-c4de-4e0d-80b8-c43c1f666f17",
   "metadata": {
    "id": "49074f3a-c4de-4e0d-80b8-c43c1f666f17",
    "jp-MarkdownHeadingCollapsed": true
   },
   "source": [
    "# Импорты"
   ]
  },
  {
   "cell_type": "code",
   "execution_count": null,
   "id": "1888b3c8-1158-448f-a86a-82337f4a4997",
   "metadata": {
    "id": "1888b3c8-1158-448f-a86a-82337f4a4997"
   },
   "source": [
    "import warnings\n",
    "import numpy as np\n",
    "import pandas as pd\n",
    "import seaborn as sns\n",
    "import matplotlib.pyplot as plt\n",
    "from sklearn.decomposition import PCA\n",
    "from sklearn.preprocessing import MinMaxScaler\n",
    "from sklearn.preprocessing import StandardScaler\n",
    "from sklearn.preprocessing import FunctionTransformer\n",
    "from sklearn.linear_model import LogisticRegression, SGDClassifier\n",
    "from linear_regression_matrix import RidgeRegressionMatrix\n",
    "from linear_regression import LinearRegression\n",
    "from svm import SVMClassifier\n",
    "from sklearn.model_selection import train_test_split\n",
    "from sklearn.feature_selection import mutual_info_regression\n",
    "from sklearn.metrics import classification_report, roc_curve, mean_squared_error, f1_score\n",
    "\n",
    "warnings.filterwarnings(\"ignore\")"
   ],
   "outputs": []
  },
  {
   "cell_type": "markdown",
   "id": "4e034b58-2cc8-4a91-ad20-c565795bd529",
   "metadata": {
    "id": "4e034b58-2cc8-4a91-ad20-c565795bd529"
   },
   "source": [
    "# Функции для отрисовки"
   ]
  },
  {
   "cell_type": "code",
   "execution_count": null,
   "id": "82b2a2ab-b078-4ad6-973c-f096e385cc2c",
   "metadata": {
    "id": "82b2a2ab-b078-4ad6-973c-f096e385cc2c"
   },
   "source": [
    "def show_histplot(data: pd.DataFrame):\n",
    "    data.hist(bins=20,figsize=(12,12))\n",
    "\n",
    "\n",
    "def get_boxplot(df_column, column_name):\n",
    "    pd.DataFrame(df_column).boxplot(sym='o', whis=1.0, showmeans=True)\n",
    "    plt.show()\n",
    "\n",
    "\n",
    "def get_3d(param1: list[int], param2: list[int], result: list[int], name_param1: str, name_param2: str):\n",
    "    fig = plt.figure()\n",
    "    ax = plt.axes(projection ='3d')\n",
    "    ax.plot3D(param1, param2, result, 'green')\n",
    "    ax.set_title(f'Зависимость метрики R² от {name_param1} и {name_param2}')\n",
    "    plt.show()\n",
    "\n",
    "def get_2d(param1: list[int], result: list[int], name_param1: str):\n",
    "    plt.title(f'Зависимость метрики/лосса  от {name_param1}')\n",
    "    plt.plot(param1, result)\n",
    "\n",
    "def plot_variance(pca, width=8, dpi=100):\n",
    "    fig, axs = plt.subplots(1, 2)\n",
    "    n = pca.n_components_\n",
    "    grid = np.arange(1, n + 1)\n",
    "    evr = pca.explained_variance_ratio_\n",
    "    axs[0].bar(grid, evr)\n",
    "    axs[0].set(\n",
    "        xlabel=\"Component\", title=\"% Explained Variance\", ylim=(0.0, 1.0)\n",
    "    )\n",
    "    cv = np.cumsum(evr)\n",
    "    axs[1].plot(np.r_[0, grid], np.r_[0, cv], \"o-\")\n",
    "    axs[1].set(\n",
    "        xlabel=\"Component\", title=\"% Cumulative Variance\", ylim=(0.0, 1.0)\n",
    "    )\n",
    "    fig.set(figwidth=8, dpi=100)\n",
    "    return axs\n",
    "\n",
    "def distribution_plots(h, w, X_train):\n",
    "    fig3, ax3 = plt.subplots(h, w, sharex=True,figsize=(8, 8))\n",
    "    axes_list = [item for sublist in ax3 for item in sublist]\n",
    "    for col in X_train.columns:\n",
    "        ax=axes_list.pop(0)\n",
    "        sns.distplot(X_train[col], ax=ax)\n",
    "\n",
    "    for ax in axes_list:\n",
    "        ax.remove()"
   ],
   "outputs": []
  },
  {
   "cell_type": "markdown",
   "id": "9f42bf46-f3a4-4186-8009-3bb8a508915e",
   "metadata": {
    "id": "9f42bf46-f3a4-4186-8009-3bb8a508915e",
    "jp-MarkdownHeadingCollapsed": true
   },
   "source": [
    "# Метрики классификации"
   ]
  },
  {
   "cell_type": "code",
   "execution_count": null,
   "id": "acc88e93-a039-4506-81de-27147271e86a",
   "metadata": {
    "id": "acc88e93-a039-4506-81de-27147271e86a"
   },
   "source": [
    "\n",
    "def output_metrics_classification(y_test: pd.Series, preds: pd.Series):\n",
    "    report = classification_report(y_test, preds, output_dict=True)\n",
    "    return report\n",
    "\n",
    "def output_roc_auc(y_test: pd.Series, preds: pd.Series):\n",
    "    sns.set(font_scale=1.5)\n",
    "    sns.set_color_codes(\"muted\")\n",
    "\n",
    "    plt.figure(figsize=(5, 4))\n",
    "    fpr, tpr, thresholds = roc_curve(y_test, preds, pos_label=1)\n",
    "    lw = 2\n",
    "    plt.plot(fpr, tpr, lw=lw, label='ROC curve ')\n",
    "    plt.plot([0, 1], [0, 1])\n",
    "    plt.xlim([0.0, 1.0])\n",
    "    plt.ylim([0.0, 1.05])\n",
    "    plt.xlabel('False Positive Rate')\n",
    "    plt.ylabel('True Positive Rate')\n",
    "    plt.title('ROC curve')\n",
    "    plt.savefig(\"ROC.png\")\n",
    "    plt.show()"
   ],
   "outputs": []
  },
  {
   "cell_type": "markdown",
   "id": "22129f6f-598c-4e86-b9c2-3c7fde94ffab",
   "metadata": {
    "id": "22129f6f-598c-4e86-b9c2-3c7fde94ffab"
   },
   "source": [
    "# EDA"
   ]
  },
  {
   "cell_type": "code",
   "execution_count": null,
   "id": "5c7eef60-06c9-4cc8-9ad3-0b4c4b00e115",
   "metadata": {
    "colab": {
     "base_uri": "https://localhost:8080/"
    },
    "id": "5c7eef60-06c9-4cc8-9ad3-0b4c4b00e115",
    "outputId": "44456637-6b1e-4596-ebad-42e568cd59eb"
   },
   "source": [
    "data = pd.read_csv('data/breast-cancer.csv')\n",
    "data['diagnosis'] = data['diagnosis'].replace({'M': 1, 'B': -1})\n",
    "X = data\n",
    "y = X['diagnosis']\n",
    "y[y == 0] = -1\n",
    "X = X.drop('diagnosis', axis=1, inplace=False)\n",
    "data.describe()"
   ],
   "outputs": []
  },
  {
   "cell_type": "markdown",
   "id": "6a46e1c3-e1cc-4beb-b02c-539e749c7ec4",
   "metadata": {
    "id": "6a46e1c3-e1cc-4beb-b02c-539e749c7ec4"
   },
   "source": [
    "## Чекаем дупликаты"
   ]
  },
  {
   "cell_type": "code",
   "execution_count": null,
   "id": "ae1f532e-24f5-4608-8c6b-513caac51ad1",
   "metadata": {
    "colab": {
     "base_uri": "https://localhost:8080/"
    },
    "id": "ae1f532e-24f5-4608-8c6b-513caac51ad1",
    "outputId": "cdb9400e-62d6-43aa-94a0-4f6315d35c6e"
   },
   "source": [
    "print(f\"Number of missing value:{data.isna().sum().sum()}\")"
   ],
   "outputs": []
  },
  {
   "cell_type": "markdown",
   "id": "f134f16b-e51a-40cc-be52-15be999eef78",
   "metadata": {
    "id": "f134f16b-e51a-40cc-be52-15be999eef78"
   },
   "source": [
    "## Смотрим распределение"
   ]
  },
  {
   "cell_type": "code",
   "execution_count": null,
   "id": "4bcf176e-56a0-447d-a836-e8251ff5c5d8",
   "metadata": {
    "colab": {
     "base_uri": "https://localhost:8080/"
    },
    "id": "4bcf176e-56a0-447d-a836-e8251ff5c5d8",
    "outputId": "428d109a-5fce-4dd3-a82a-eef51717f637"
   },
   "source": [
    "show_histplot(data)"
   ],
   "outputs": []
  },
  {
   "cell_type": "markdown",
   "id": "MDYkDp_MDMfP",
   "metadata": {
    "id": "MDYkDp_MDMfP"
   },
   "source": [
    "## Смотрим на выбросы"
   ]
  },
  {
   "cell_type": "markdown",
   "id": "vhYuB4frDcty",
   "metadata": {
    "id": "vhYuB4frDcty"
   },
   "source": [
    "### Ящик с усами"
   ]
  },
  {
   "cell_type": "code",
   "execution_count": null,
   "id": "QADMvIOsDPk9",
   "metadata": {
    "colab": {
     "base_uri": "https://localhost:8080/"
    },
    "id": "QADMvIOsDPk9",
    "outputId": "05b65601-1642-4845-d86b-03e127854a33"
   },
   "source": [
    "[get_boxplot(data[column], column) for column in data.columns if column != 'diagnosis']"
   ],
   "outputs": []
  },
  {
   "cell_type": "markdown",
   "id": "77j1kFKUDhSv",
   "metadata": {
    "id": "77j1kFKUDhSv"
   },
   "source": [
    "### Смотрим на выбросы в процентах"
   ]
  },
  {
   "cell_type": "code",
   "execution_count": null,
   "id": "FMDYdO3sDlRb",
   "metadata": {
    "colab": {
     "base_uri": "https://localhost:8080/"
    },
    "id": "FMDYdO3sDlRb",
    "outputId": "6daeb83e-e38c-41f9-b47e-21f07a3a9a2d"
   },
   "source": [
    "def find_outliers(df):\n",
    "    outliers = {}\n",
    "    for col in df.columns:\n",
    "        v = df[col]\n",
    "        q1 = v.quantile(0.25)\n",
    "        q3 = v.quantile(0.75)\n",
    "        iqr = q3 - q1\n",
    "        lower_bound = q1 - 1.5 * iqr\n",
    "        upper_bound = q3 + 1.5 * iqr\n",
    "        outliers_count = ((v < lower_bound) | (v > upper_bound)).sum()\n",
    "        perc = outliers_count * 100.0 / len(df)\n",
    "        outliers[col] = (perc, outliers_count)\n",
    "        print(f\"Column {col} outliers = {perc:.2f}%\")\n",
    "\n",
    "    return outliers\n",
    "\n",
    "outliers = find_outliers(data)"
   ],
   "outputs": []
  },
  {
   "cell_type": "code",
   "source": [
    "data = data.drop(['area_se', 'perimeter_se', 'radius_se', 'area_mean'], axis=1)"
   ],
   "metadata": {
    "id": "EapEQmXCS9Ny"
   },
   "id": "EapEQmXCS9Ny",
   "execution_count": null,
   "outputs": []
  },
  {
   "cell_type": "markdown",
   "id": "LjrfRJwkDxC2",
   "metadata": {
    "id": "LjrfRJwkDxC2"
   },
   "source": [
    "## Тепловая карта"
   ]
  },
  {
   "cell_type": "code",
   "execution_count": null,
   "id": "dzW-4vzJDyxf",
   "metadata": {
    "colab": {
     "base_uri": "https://localhost:8080/"
    },
    "id": "dzW-4vzJDyxf",
    "outputId": "1f0ebc3d-bd6b-42ec-8393-f6a57cd058de"
   },
   "source": [
    "sns.heatmap(data.corr(method='spearman'), vmin=-1, vmax=1, center= 0, cmap= 'coolwarm')"
   ],
   "outputs": []
  },
  {
   "cell_type": "markdown",
   "id": "Zyc8H2_KHGqz",
   "metadata": {
    "id": "Zyc8H2_KHGqz"
   },
   "source": [
    "**Вывод из тепловой карты:**\n",
    "\n",
    "Такое ощущение, что B-признаки просто не влияют на таргет, но давайте посмотрим взаимную информацию, хотя интуитивно они должны влиять."
   ]
  },
  {
   "cell_type": "markdown",
   "id": "kaD1jD0sHU12",
   "metadata": {
    "id": "kaD1jD0sHU12"
   },
   "source": [
    "## Mutual Information"
   ]
  },
  {
   "cell_type": "code",
   "execution_count": null,
   "id": "Ek8z_WgEJFt1",
   "metadata": {
    "id": "Ek8z_WgEJFt1"
   },
   "source": [
    "X['mean'] = X[X.columns].mean(axis=1)\n",
    "X['std'] = X[X.columns].std(axis=1)\n",
    "X['max'] = X[X.columns].max(axis=1)\n",
    "X['median'] = X[X.columns].median(axis=1)"
   ],
   "outputs": []
  },
  {
   "cell_type": "code",
   "execution_count": null,
   "id": "TWLi-Hx9HYPy",
   "metadata": {
    "colab": {
     "base_uri": "https://localhost:8080/"
    },
    "id": "TWLi-Hx9HYPy",
    "outputId": "d525cca5-64dc-465c-cc01-d157aee33355"
   },
   "source": [
    "def make_mi_scores(X, y, discrete_features):\n",
    "    mi_scores = mutual_info_regression(X, y)\n",
    "    mi_scores = pd.Series(mi_scores, name=\"MI Scores\", index=X.columns)\n",
    "    mi_scores = mi_scores.sort_values(ascending=False)\n",
    "    return mi_scores\n",
    "\n",
    "def plot_mi_scores(scores):\n",
    "    scores = scores.sort_values(ascending=True)\n",
    "    width = np.arange(len(scores))\n",
    "    ticks = list(scores.index)\n",
    "    plt.barh(width, scores)\n",
    "    plt.yticks(width, ticks)\n",
    "    plt.title(\"Mutual Information Scores\")\n",
    "\n",
    "discrete_features = X.dtypes == int\n",
    "mi_scores = make_mi_scores(X, y, discrete_features)\n",
    "plt.figure(dpi=100, figsize=(8, 5))\n",
    "plot_mi_scores(mi_scores)"
   ],
   "outputs": []
  },
  {
   "cell_type": "code",
   "source": [
    "mi_scores[::3]"
   ],
   "metadata": {
    "colab": {
     "base_uri": "https://localhost:8080/"
    },
    "id": "khZG8ySaTVjS",
    "outputId": "b4656349-0da6-4a5c-b794-69769ea72cc4"
   },
   "id": "khZG8ySaTVjS",
   "execution_count": null,
   "outputs": []
  },
  {
   "cell_type": "code",
   "source": [
    "data = data.drop(['fractal_dimension_mean', 'fractal_dimension_se', 'compactness_se', 'id'], axis=1)"
   ],
   "metadata": {
    "id": "-PRCHmO4TcRZ"
   },
   "id": "-PRCHmO4TcRZ",
   "execution_count": null,
   "outputs": []
  },
  {
   "cell_type": "markdown",
   "id": "Wmh8v9q-HxBF",
   "metadata": {
    "id": "Wmh8v9q-HxBF"
   },
   "source": [
    "**Итог из взаимной информации:**\n",
    "\n",
    "Вывод из тепловой карты оказался неправильным, ведь как мы видим имеется взаимосвязь между таргетом и B-признаками.\n",
    "\n",
    "А еще нет смысла добавлять mean/max/std/median."
   ]
  },
  {
   "cell_type": "markdown",
   "id": "BseahlEuIR9l",
   "metadata": {
    "id": "BseahlEuIR9l"
   },
   "source": [
    "# Feature Engineering"
   ]
  },
  {
   "cell_type": "markdown",
   "id": "Z5rNttkSLpxV",
   "metadata": {
    "id": "Z5rNttkSLpxV"
   },
   "source": [
    "## Scaling"
   ]
  },
  {
   "cell_type": "markdown",
   "id": "J91MQhdTLu7E",
   "metadata": {
    "id": "J91MQhdTLu7E"
   },
   "source": [
    "Можно по-разному масштабировать признаки:\n",
    "\n",
    "1) логирование\n",
    "\n",
    "2) MinMax\n",
    "\n",
    "3) Standart scaling"
   ]
  },
  {
   "cell_type": "code",
   "execution_count": null,
   "id": "BDOIRBIwLtZH",
   "metadata": {
    "id": "BDOIRBIwLtZH"
   },
   "source": [
    "def feature_transform(type_scaling, data):\n",
    "    if type_scaling == 'standard':\n",
    "        tran_fn = StandardScaler()\n",
    "    elif type_scaling =='minmax':\n",
    "        tran_fn = MinMaxScaler()\n",
    "    elif type_scaling =='log':\n",
    "        tran_fn = FunctionTransformer(np.log1p, validate=True)\n",
    "\n",
    "    transfx_data = tran_fn.fit_transform(data.astype(float))\n",
    "    transfx_data = pd.DataFrame(transfx_data, columns = data.columns)\n",
    "    return transfx_data\n",
    "\n",
    "X_minmax = feature_transform('minmax', X)\n",
    "X_standard = feature_transform('standard', X)\n",
    "X_log = feature_transform('log', X)"
   ],
   "outputs": []
  },
  {
   "cell_type": "code",
   "execution_count": null,
   "id": "fYmJ-YgVNSrs",
   "metadata": {
    "colab": {
     "base_uri": "https://localhost:8080/"
    },
    "id": "fYmJ-YgVNSrs",
    "outputId": "1150940d-6bf6-4746-ba9b-366811e13520"
   },
   "source": [
    "distribution_plots(4,3, X_log.iloc[:,:11])"
   ],
   "outputs": []
  },
  {
   "cell_type": "code",
   "execution_count": null,
   "id": "HyTCIxqBNyJv",
   "metadata": {
    "colab": {
     "base_uri": "https://localhost:8080/"
    },
    "id": "HyTCIxqBNyJv",
    "outputId": "9eb18992-2c2a-44c5-f0b3-2956444a5660"
   },
   "source": [
    "distribution_plots(4,3, X_standard.iloc[:,:11])"
   ],
   "outputs": []
  },
  {
   "cell_type": "code",
   "execution_count": null,
   "id": "fwERCtHgOkua",
   "metadata": {
    "colab": {
     "base_uri": "https://localhost:8080/"
    },
    "id": "fwERCtHgOkua",
    "outputId": "0e3934cb-9a75-4fe3-a0d3-a057cf4f563c"
   },
   "source": [
    "distribution_plots(4,3, X_minmax.iloc[:,:11])"
   ],
   "outputs": []
  },
  {
   "cell_type": "markdown",
   "id": "fcB1uK4uTC7k",
   "metadata": {
    "id": "fcB1uK4uTC7k"
   },
   "source": [
    "В таком случае лучше просто использовать MinMax"
   ]
  },
  {
   "cell_type": "markdown",
   "id": "l0lQkxJeLnUX",
   "metadata": {
    "id": "l0lQkxJeLnUX"
   },
   "source": [
    "## PCA"
   ]
  },
  {
   "cell_type": "code",
   "execution_count": null,
   "id": "rwIoU2GDIacG",
   "metadata": {
    "colab": {
     "base_uri": "https://localhost:8080/"
    },
    "id": "rwIoU2GDIacG",
    "outputId": "e7e2fc1a-908d-4d32-af30-2c4d9f0c6339"
   },
   "source": [
    "X_scaled = (X - X.mean(axis=0)) / X.std(axis=0)\n",
    "pca = PCA()\n",
    "X_pca = pca.fit_transform(X_scaled)\n",
    "component_names = [f\"PC{i+1}\" for i in range(X_pca.shape[1])]\n",
    "X_pca = pd.DataFrame(X_pca, columns=component_names)\n",
    "\n",
    "new_pca_df = pd.DataFrame(\n",
    "    pca.components_.T,\n",
    "    columns=component_names,\n",
    "    index=X.columns,\n",
    ")\n",
    "plot_variance(pca)"
   ],
   "outputs": []
  },
  {
   "cell_type": "markdown",
   "id": "fSEqe9PDJw7Q",
   "metadata": {
    "id": "fSEqe9PDJw7Q"
   },
   "source": [
    "После 6 компоненты примерно уровень объясненной дисперсии не особо меняется."
   ]
  },
  {
   "cell_type": "code",
   "execution_count": null,
   "id": "RiwgafPcJvzE",
   "metadata": {
    "colab": {
     "base_uri": "https://localhost:8080/"
    },
    "id": "RiwgafPcJvzE",
    "outputId": "18363d17-17c0-4856-ab63-b5716560c937"
   },
   "source": [
    "X_scaled = (X - X.mean(axis=0)) / X.std(axis=0)\n",
    "pca = PCA(n_components=7)\n",
    "X_pca = pca.fit_transform(X_scaled)\n",
    "component_names = [f\"PC{i+1}\" for i in range(X_pca.shape[1])]\n",
    "X_pca = pd.DataFrame(X_pca, columns=component_names)\n",
    "\n",
    "pca_df = pd.DataFrame(\n",
    "    pca.components_.T,\n",
    "    columns=component_names,\n",
    "    index=X.columns,\n",
    ")\n",
    "X_pca"
   ],
   "outputs": []
  },
  {
   "cell_type": "markdown",
   "id": "78f407ef-0956-437a-9c23-de5bc6bc89cb",
   "metadata": {
    "id": "78f407ef-0956-437a-9c23-de5bc6bc89cb",
    "jp-MarkdownHeadingCollapsed": true
   },
   "source": [
    "# Матричное решение"
   ]
  },
  {
   "cell_type": "markdown",
   "id": "apjB4TpVUdYn",
   "metadata": {
    "id": "apjB4TpVUdYn"
   },
   "source": [
    "## Обучение на MinMax данных"
   ]
  },
  {
   "cell_type": "code",
   "execution_count": null,
   "id": "ff6c5c58-ff96-4ee5-87fd-d98b55dd48c2",
   "metadata": {
    "colab": {
     "base_uri": "https://localhost:8080/",
     "height": 608
    },
    "id": "ff6c5c58-ff96-4ee5-87fd-d98b55dd48c2",
    "outputId": "00773bff-9d2a-4128-ecce-bed274185350"
   },
   "source": [
    "X_train, X_test, y_train, y_test = train_test_split(X_log, y, test_size=0.3, random_state=42)\n",
    "\n",
    "rid_reg = RidgeRegressionMatrix(lambda_=0.1)\n",
    "rid_reg.fit(X_train, y_train)\n",
    "prob_predictions = rid_reg.predict_proba(X_test)\n",
    "preds = rid_reg.predict(X_test)\n",
    "print(classification_report(y_test, preds))\n",
    "output_roc_auc(y_test, prob_predictions)"
   ],
   "outputs": []
  },
  {
   "cell_type": "markdown",
   "id": "cy6-FKeFU7Oi",
   "metadata": {
    "id": "cy6-FKeFU7Oi"
   },
   "source": [
    "## Обучение на данных PCA"
   ]
  },
  {
   "cell_type": "code",
   "execution_count": null,
   "id": "ABE_POHeU_uf",
   "metadata": {
    "colab": {
     "base_uri": "https://localhost:8080/",
     "height": 608
    },
    "id": "ABE_POHeU_uf",
    "outputId": "00273324-c3e7-422c-f035-cb3f20d957fc"
   },
   "source": [
    "X_train, X_test, y_train, y_test = train_test_split(X_pca, y, test_size=0.3, random_state=42)\n",
    "\n",
    "rid_reg = RidgeRegressionMatrix(lambda_=0.1)\n",
    "rid_reg.fit(X_train, y_train)\n",
    "prob_predictions = rid_reg.predict_proba(X_test)\n",
    "preds = rid_reg.predict(X_test)\n",
    "print(classification_report(y_test, preds))\n",
    "output_roc_auc(y_test, prob_predictions)"
   ],
   "outputs": []
  },
  {
   "cell_type": "markdown",
   "id": "440d08d3-b9c3-4e87-af24-ae97491c7b14",
   "metadata": {
    "id": "440d08d3-b9c3-4e87-af24-ae97491c7b14"
   },
   "source": [
    "# Линейная регрессия"
   ]
  },
  {
   "cell_type": "code",
   "execution_count": null,
   "id": "c4aee2b3-e2b7-466c-8d57-d2901695d64d",
   "metadata": {
    "id": "c4aee2b3-e2b7-466c-8d57-d2901695d64d"
   },
   "source": [
    "X_train_pd, X_test_pd, y_train_pd, y_test_pd = train_test_split(X_pca, y, test_size=0.3, random_state=42)\n",
    "X_train, X_test, y_train, y_test = X_train_pd.to_numpy(), X_test_pd.to_numpy(), y_train_pd.to_numpy(), y_test_pd.to_numpy()"
   ],
   "outputs": []
  },
  {
   "cell_type": "markdown",
   "source": [
    "## Ищем лучшие гиперпараметры"
   ],
   "metadata": {
    "id": "x78BxL1xVcU3"
   },
   "id": "x78BxL1xVcU3"
  },
  {
   "cell_type": "code",
   "source": [
    "import itertools\n",
    "\n",
    "rates = [0.1, 0.01]\n",
    "epoches = [50,100,150,200,300]\n",
    "batches = [50,100,150, 200, 300]\n",
    "best_f1 = -1\n",
    "best_params = {}\n",
    "for rate, epoche, batch in itertools.product(rates, epoches, batches):\n",
    "    model_reg = LinearRegression(learning_rate=rate, max_epoches=epoche, size_batch=batch, eps=0.0000001)\n",
    "    model_reg.fit(X_train, y_train)\n",
    "    linreg_preds = model_reg.predict(X_test)\n",
    "    mean_f1 = output_metrics_classification(y_test, linreg_preds)\n",
    "    if mean_f1['macro avg']['f1-score'] > best_f1:\n",
    "        best_f1 = mean_f1['macro avg']['f1-score']\n",
    "        best_params['learning_rate'] = rate\n",
    "        best_params['max_epoches'] = epoche\n",
    "        best_params['size_batch'] = batch\n",
    "\n"
   ],
   "metadata": {
    "id": "WeBPMyEHVbhT"
   },
   "id": "WeBPMyEHVbhT",
   "execution_count": null,
   "outputs": []
  },
  {
   "cell_type": "code",
   "source": [
    "print(best_params)\n",
    "print(f\"best_f1 = {best_f1}\")"
   ],
   "metadata": {
    "colab": {
     "base_uri": "https://localhost:8080/"
    },
    "id": "443c0jkbXTUB",
    "outputId": "47c7995f-735c-4f13-c1ff-07ac6ef3d051"
   },
   "id": "443c0jkbXTUB",
   "execution_count": null,
   "outputs": []
  },
  {
   "cell_type": "markdown",
   "source": [
    "# SVM"
   ],
   "metadata": {
    "id": "Cd_dBh70fBTi"
   },
   "id": "Cd_dBh70fBTi"
  },
  {
   "cell_type": "markdown",
   "source": [
    "## Ищем лучшие гиперпараметры"
   ],
   "metadata": {
    "id": "aPYkXhqMgIG2"
   },
   "id": "aPYkXhqMgIG2"
  },
  {
   "cell_type": "code",
   "source": [
    "# SVM\n",
    "c_arr = [0.1, 0.01]\n",
    "lr_arr = [0.1, 0.01]\n",
    "arr_epoches = [100, 150]\n",
    "best_f1 = -1\n",
    "best_params = {}\n",
    "for c, lr, epochs in itertools.product(c_arr, lr_arr, arr_epoches):\n",
    "    sigma = 1\n",
    "    classifier = SVMClassifier(c, lr, epochs, sigma)\n",
    "    classifier.fit(X_train_pd, y_train_pd)\n",
    "    svm_predicts = classifier.predict(y_test_pd)\n",
    "    mean_f1 = output_metrics_classification(y_test, svm_predicts)\n",
    "    if mean_f1['macro avg']['f1-score'] > best_f1:\n",
    "        best_f1 = mean_f1['macro avg']['f1-score']\n",
    "        best_params['learning_rate'] = rate\n",
    "        best_params['max_epoches'] = epoche\n",
    "        best_params['size_batch'] = batch\n",
    "\n",
    "print(best_params)\n",
    "print(f\"best_f1 = {best_f1}\")"
   ],
   "metadata": {
    "colab": {
     "base_uri": "https://localhost:8080/"
    },
    "id": "OtOizfzme--_",
    "outputId": "38dbb5a9-d6b9-47dd-e51e-aeb5c566cb30"
   },
   "id": "OtOizfzme--_",
   "execution_count": null,
   "outputs": []
  },
  {
   "cell_type": "markdown",
   "source": [
    "# Кривые обучения моих моделей"
   ],
   "metadata": {
    "id": "AYjgPcybYE96"
   },
   "id": "AYjgPcybYE96"
  },
  {
   "cell_type": "code",
   "source": [
    "# линрег\n",
    "model_reg = LinearRegression(learning_rate=0.1, max_epoches=150, size_batch=50, eps=0.000000001)\n",
    "model_reg.fit_test(X_train, y_train, X_test, y_test, 150)"
   ],
   "metadata": {
    "id": "SPDCq3UxYEiD"
   },
   "id": "SPDCq3UxYEiD",
   "execution_count": null,
   "outputs": []
  },
  {
   "cell_type": "code",
   "source": [
    "# SVM\n",
    "model_svm = SVMClassifier(c=1, learning_rate=0.1, epochs=150, sigma=1)\n",
    "model_svm.fit_test(X_train_pd, y_train_pd, X_test_pd, y_test_pd)"
   ],
   "metadata": {
    "id": "uVmITyrDbr0Y"
   },
   "id": "uVmITyrDbr0Y",
   "execution_count": null,
   "outputs": []
  },
  {
   "cell_type": "code",
   "source": [
    "# матричный линрег\n",
    "rid_reg = RidgeRegressionMatrix(lambda_=0.1)\n",
    "rid_reg.fit(X_train, y_train)\n",
    "preds = rid_reg.predict(X_test)\n",
    "matrix_result = np.full(150, f1_score(y_test, preds))"
   ],
   "metadata": {
    "id": "RFes8LNwn7Vo"
   },
   "id": "RFes8LNwn7Vo",
   "execution_count": null,
   "outputs": []
  },
  {
   "cell_type": "code",
   "source": [
    "import matplotlib.pyplot as plt\n",
    "\n",
    "fig, ax = plt.subplots(1, 2, figsize=(12, 6))\n",
    "ax[0].set_title('Трейн')\n",
    "ax[0].set_xlabel('Кол-во эпох')\n",
    "ax[0].set_ylabel('Эмпирический риск')\n",
    "ax[0].plot(model_reg.train_losses, label='LinReg')\n",
    "ax[0].plot(model_svm.train_losses, label='SVM')\n",
    "ax[0].legend()\n",
    "\n",
    "ax[1].set_title('Тест')\n",
    "ax[1].set_xlabel('Кол-во эпох')\n",
    "ax[1].set_ylabel('F-1')\n",
    "ax[1].plot(model_reg.test_losses, label='LinReg')\n",
    "ax[1].plot(model_svm.test_losses, label='SVM')\n",
    "ax[1].plot(matrix_result, label='Матричный LinReg')\n",
    "ax[1].legend()"
   ],
   "metadata": {
    "colab": {
     "base_uri": "https://localhost:8080/",
     "height": 611
    },
    "id": "dgK_Dw9OaeL2",
    "outputId": "9cf8f131-26d1-46b6-ea03-a0a300a9c3e1"
   },
   "id": "dgK_Dw9OaeL2",
   "execution_count": null,
   "outputs": []
  },
  {
   "cell_type": "markdown",
   "source": [
    "# Библиотечные алгоритмы"
   ],
   "metadata": {
    "id": "cqXWBozOw9F-"
   },
   "id": "cqXWBozOw9F-"
  },
  {
   "cell_type": "code",
   "source": [
    "# Линейная регрессия на градиентном спуске\n",
    "logreg = LogisticRegression(max_iter=1, warm_start=True, solver='lbfgs', random_state=42)\n",
    "logreg_test_losses = []\n",
    "for epoch in range(150):\n",
    "      logreg.fit(X_train_pd, y_train_pd)\n",
    "      test_predictions = logreg.predict(X_test_pd)\n",
    "      logreg_test_losses.append(f1_score(y_test_pd, test_predictions))"
   ],
   "metadata": {
    "id": "aft3srT65GNE"
   },
   "id": "aft3srT65GNE",
   "execution_count": null,
   "outputs": []
  },
  {
   "cell_type": "code",
   "source": [
    "# Линейная регрессия на матричном решении\n",
    "matrix_reg = SGDClassifier(max_iter=150)\n",
    "matrix_reg.fit(X_train_pd, y_train_pd)\n",
    "test_predictions = matrix_reg.predict(X_test_pd)\n",
    "sgd_test_losses = np.full(150, f1_score(y_test_pd, test_predictions))"
   ],
   "metadata": {
    "id": "Exz3bo7s5TLG"
   },
   "id": "Exz3bo7s5TLG",
   "execution_count": null,
   "outputs": []
  },
  {
   "cell_type": "code",
   "source": [
    "from sklearn.svm import SVC\n",
    "\n",
    "# Метод опорных векторов (SVM)\n",
    "svm_sklearn = SVC()\n",
    "svc_test_losses = []\n",
    "for epoch in range(150):\n",
    "    svm_sklearn.fit(X_train_pd, y_train_pd)  # Обучаем модель\n",
    "    y_test_pred = svm_sklearn.predict(X_test_pd)\n",
    "    svc_test_losses.append(f1_score(y_test_pd, y_test_pred))"
   ],
   "metadata": {
    "collapsed": true,
    "id": "f10cc2PqwXkk"
   },
   "id": "f10cc2PqwXkk",
   "execution_count": null,
   "outputs": []
  },
  {
   "cell_type": "code",
   "source": [
    "fig, ax = plt.subplots(figsize=(6, 6))\n",
    "\n",
    "ax.set_title('Тест')\n",
    "ax.set_xlabel('Количество эпох')\n",
    "ax.set_ylabel('F-1')\n",
    "ax.plot(logreg_test_losses, label='SGD')\n",
    "ax.plot(svc_test_losses, label='SVM')\n",
    "ax.plot(sgd_test_losses, label='Matrix')\n",
    "ax.legend()"
   ],
   "metadata": {
    "colab": {
     "base_uri": "https://localhost:8080/",
     "height": 611
    },
    "id": "RapEKVBE502U",
    "outputId": "8d86112b-2822-4d4a-b551-c080f5bf51ed"
   },
   "id": "RapEKVBE502U",
   "execution_count": null,
   "outputs": []
  },
  {
   "cell_type": "markdown",
   "source": [
    "# Сравнение линейных уравнений регрессий и коэффициентов опорных векторов"
   ],
   "metadata": {
    "id": "1QfsP7ix8EjA"
   },
   "id": "1QfsP7ix8EjA"
  },
  {
   "cell_type": "code",
   "source": [
    "# Сравнение линейных уравнений регрессий\n",
    "print('MSE: ', mean_squared_error(model_reg.w, logreg.coef_.flatten()))\n"
   ],
   "metadata": {
    "colab": {
     "base_uri": "https://localhost:8080/"
    },
    "id": "bKbVikq074HK",
    "outputId": "fff94438-dfc4-4c6c-c732-183593924db5"
   },
   "id": "bKbVikq074HK",
   "execution_count": null,
   "outputs": []
  }
 ],
 "metadata": {
  "colab": {
   "collapsed_sections": [
    "49074f3a-c4de-4e0d-80b8-c43c1f666f17",
    "4e034b58-2cc8-4a91-ad20-c565795bd529",
    "9f42bf46-f3a4-4186-8009-3bb8a508915e",
    "22129f6f-598c-4e86-b9c2-3c7fde94ffab",
    "6a46e1c3-e1cc-4beb-b02c-539e749c7ec4",
    "f134f16b-e51a-40cc-be52-15be999eef78",
    "MDYkDp_MDMfP",
    "vhYuB4frDcty",
    "77j1kFKUDhSv",
    "LjrfRJwkDxC2",
    "kaD1jD0sHU12",
    "BseahlEuIR9l",
    "Z5rNttkSLpxV",
    "l0lQkxJeLnUX",
    "78f407ef-0956-437a-9c23-de5bc6bc89cb",
    "apjB4TpVUdYn",
    "cy6-FKeFU7Oi",
    "440d08d3-b9c3-4e87-af24-ae97491c7b14",
    "x78BxL1xVcU3",
    "Cd_dBh70fBTi",
    "aPYkXhqMgIG2",
    "AYjgPcybYE96",
    "cqXWBozOw9F-",
    "1QfsP7ix8EjA"
   ],
   "provenance": []
  },
  "kernelspec": {
   "display_name": "Python 3 (ipykernel)",
   "language": "python",
   "name": "python3"
  },
  "language_info": {
   "codemirror_mode": {
    "name": "ipython",
    "version": 3
   },
   "file_extension": ".py",
   "mimetype": "text/x-python",
   "name": "python",
   "nbconvert_exporter": "python",
   "pygments_lexer": "ipython3",
   "version": "3.10.0"
  }
 },
 "nbformat": 4,
 "nbformat_minor": 5
}
