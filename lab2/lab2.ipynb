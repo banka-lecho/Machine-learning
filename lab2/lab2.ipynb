{
 "cells": [
  {
   "cell_type": "markdown",
   "id": "49074f3a-c4de-4e0d-80b8-c43c1f666f17",
   "metadata": {
    "jp-MarkdownHeadingCollapsed": true,
    "id": "49074f3a-c4de-4e0d-80b8-c43c1f666f17"
   },
   "source": [
    "# Импорты"
   ]
  },
  {
   "cell_type": "code",
   "execution_count": 269,
   "id": "1888b3c8-1158-448f-a86a-82337f4a4997",
   "metadata": {
    "id": "1888b3c8-1158-448f-a86a-82337f4a4997"
   },
   "source": [
    "import warnings\n",
    "import numpy as np\n",
    "import pandas as pd\n",
    "import seaborn as sns\n",
    "from tqdm import tqdm\n",
    "from sklearn import svm\n",
    "import matplotlib.pyplot as plt\n",
    "from sklearn.decomposition import PCA\n",
    "from sklearn.base import BaseEstimator\n",
    "from mpl_toolkits.mplot3d import Axes3D\n",
    "from sklearn.preprocessing import MinMaxScaler\n",
    "from sklearn.preprocessing import StandardScaler\n",
    "from sklearn.model_selection import GridSearchCV\n",
    "from sklearn.preprocessing import FunctionTransformer\n",
    "# from linear_regression_matrix import RidgeRegression\n",
    "from sklearn.model_selection import train_test_split\n",
    "from sklearn.feature_selection import mutual_info_regression\n",
    "from sklearn.tree import DecisionTreeClassifier, DecisionTreeRegressor\n",
    "from sklearn.ensemble import RandomForestClassifier, RandomForestRegressor\n",
    "from sklearn.metrics import classification_report, roc_curve, r2_score, mean_squared_error\n",
    "\n",
    "warnings.filterwarnings(\"ignore\")"
   ],
   "outputs": []
  },
  {
   "cell_type": "markdown",
   "source": [
    "# Логистическая реализация"
   ],
   "metadata": {
    "id": "YJtD3gxaKRvU"
   },
   "id": "YJtD3gxaKRvU"
  },
  {
   "cell_type": "code",
   "source": [
    "class LinearRegression(BaseEstimator):\n",
    "    def __init__(self, learning_rate=0.1, max_epoches=1000, size_batch=60, eps=0.0000001):\n",
    "        params = {\n",
    "            \"learning_rate\" : learning_rate,\n",
    "            \"max_epoches\" : max_epoches,\n",
    "            \"size_batch\" : size_batch,\n",
    "            \"eps\" : eps\n",
    "        }\n",
    "\n",
    "        for param_name, param_value in params.items():\n",
    "            setattr(self, param_name, param_value)\n",
    "\n",
    "        super(LinearRegression, self).set_params(**params)\n",
    "        self.batches = []\n",
    "        self.w = None\n",
    "        self.diff_log = []\n",
    "\n",
    "\n",
    "    def _stable_sigmoid(self, z: np.ndarray):\n",
    "        \"\"\"Sigmoid: функция преобразования предсказания модели в диапазон [0,1]\"\"\"\n",
    "        z = np.sum(z)\n",
    "        if z >= 0:\n",
    "            return 1 / (1 + np.exp(-z))\n",
    "        else:\n",
    "            return np.exp(z) / (np.exp(z) + 1)\n",
    "\n",
    "\n",
    "    def _log_loss(self, y_pred: np.ndarray, y: np.ndarray):\n",
    "        \"\"\"Логистическая функция потерь\"\"\"\n",
    "        y_pred = self._stable_sigmoid(y_pred)\n",
    "        y_one_loss = y * np.log(y_pred + 1e-9)\n",
    "        y_zero_loss = (1 - y) * np.log(1 - y_pred + 1e-9)\n",
    "        return -np.mean(y_zero_loss + y_one_loss)\n",
    "\n",
    "\n",
    "    def _deriative_log_loss(self, X: np.ndarray, y_pred: np.ndarray, y: np.ndarray):\n",
    "        \"\"\"Производная лог лосса\"\"\"\n",
    "        return np.dot(X.T, (y_pred - y)) / y_pred.shape[0]\n",
    "\n",
    "\n",
    "    def _mse(self, y_pred: np.ndarray, y: np.ndarray):\n",
    "        \"\"\"MSE: функция отклонения таргета от предсказаний\"\"\"\n",
    "        return np.divide(np.sum((y_pred - y)**2), len(y_pred))\n",
    "\n",
    "\n",
    "    def _deriative_mse(self, X: np.ndarray, y_pred: np.ndarray, y: np.ndarray):\n",
    "        \"\"\"Градиента MSE\"\"\"\n",
    "        return np.dot(np.divide(2*(y - y_pred), len(X)), (-X))\n",
    "\n",
    "\n",
    "    def stable_softmax(X: np.ndarray, w: np.ndarray):\n",
    "        \"\"\"Функция SoftMax\"\"\"\n",
    "        z = np.dot(-X, w)\n",
    "        z = z - np.max(z, axis = -1, keepdims = True)\n",
    "        numerator = np.exp(z)\n",
    "        denominator = np.sum(numerator, axis = -1, keepdims = True)\n",
    "        softmax = numerator / denominator\n",
    "        return softmax\n",
    "\n",
    "\n",
    "    def cross_entropy(y_pred: np.ndarray, y: np.ndarray, epsilon = 1e-9):\n",
    "        \"\"\"Кросс-энтропийная функция потерь в многоклассовой классификации\"\"\"\n",
    "        n = y_pred.shape[0]\n",
    "        ce = -np.sum(y * np.log(y_pred + epsilon)) / n\n",
    "        return ce\n",
    "\n",
    "\n",
    "    def gradient_softmax(self, X: np.ndarray, y_pred: np.ndarray, y: np.ndarray):\n",
    "        \"\"\"Градиент кросс-энтропийной функции потерь\"\"\"\n",
    "        return np.array(1 / y_pred.shape[0] * np.dot(X.T, (y - y_pred)))\n",
    "\n",
    "\n",
    "    def fit(self, X: np.ndarray, y: np.ndarray):\n",
    "        \"\"\"Обучение линейной регрессии на градиентном спуске: модификация Adam\"\"\"\n",
    "        epoches = 0\n",
    "        n_objects, n_features = X.shape\n",
    "        self.w = np.random.normal(size=n_features)\n",
    "        y_pred = X @ self.w\n",
    "        while epoches < self.max_epoches:\n",
    "            epoches += 1\n",
    "            indices = np.random.choice(X.shape[0], size=self.size_batch, replace=False)\n",
    "            # вычисление батчей\n",
    "            X_batch = X[indices]\n",
    "            y_batch = y[indices]\n",
    "            # вычисление предсказаний\n",
    "            y_pred = X_batch @ self.w\n",
    "            # вычисление градиента\n",
    "            grad = self._deriative_log_loss(X_batch, y_pred, y_batch)\n",
    "            # oбновление весов\n",
    "            self.w -= self.learning_rate * grad\n",
    "            # проверка на то, что веса действительно изменились\n",
    "            current_difference = self._log_loss(y_pred, y_batch)\n",
    "            if current_difference < self.eps:\n",
    "                break\n",
    "\n",
    "        print(f\"Count of epoches: {epoches}\")\n",
    "\n",
    "    def predict_proba(self, X_test):\n",
    "        \"\"\"Предсказываем вероятности соотнесения к объекту\"\"\"\n",
    "        return X_test @ self.w\n",
    "\n",
    "    def predict(self, X_test):\n",
    "        \"\"\"Предсказываем классы\"\"\"\n",
    "        y_pred = self.predict_proba(X_test)\n",
    "        y_pred = np.where(y_pred > 0.6, 1, -1)\n",
    "        return y_pred\n"
   ],
   "metadata": {
    "id": "0ja3RekbKVf1"
   },
   "id": "0ja3RekbKVf1",
   "execution_count": 285,
   "outputs": []
  },
  {
   "cell_type": "markdown",
   "id": "4e034b58-2cc8-4a91-ad20-c565795bd529",
   "metadata": {
    "jp-MarkdownHeadingCollapsed": true,
    "id": "4e034b58-2cc8-4a91-ad20-c565795bd529"
   },
   "source": [
    "# Функции для отрисовки"
   ]
  },
  {
   "cell_type": "code",
   "execution_count": 270,
   "id": "82b2a2ab-b078-4ad6-973c-f096e385cc2c",
   "metadata": {
    "id": "82b2a2ab-b078-4ad6-973c-f096e385cc2c"
   },
   "source": [
    "def show_histplot(data: pd.DataFrame):\n",
    "    data.hist(bins=20,figsize=(12,12))\n",
    "\n",
    "\n",
    "def get_boxplot(df_column, column_name):\n",
    "    pd.DataFrame(df_column).boxplot(sym='o', whis=1.0, showmeans=True)\n",
    "    plt.show()\n",
    "\n",
    "\n",
    "def get_3d(param1: list[int], param2: list[int], result: list[int], name_param1: str, name_param2: str):\n",
    "    fig = plt.figure()\n",
    "    ax = plt.axes(projection ='3d')\n",
    "    ax.plot3D(param1, param2, result, 'green')\n",
    "    ax.set_title(f'Зависимость метрики R² от {name_param1} и {name_param2}')\n",
    "    plt.show()\n",
    "\n",
    "def get_2d(param1: list[int], result: list[int], name_param1: str):\n",
    "    plt.title(f'Зависимость метрики R² от {name_param1}')\n",
    "    plt.plot(param1, result)\n",
    "\n",
    "def plot_variance(pca, width=8, dpi=100):\n",
    "    fig, axs = plt.subplots(1, 2)\n",
    "    n = pca.n_components_\n",
    "    grid = np.arange(1, n + 1)\n",
    "    evr = pca.explained_variance_ratio_\n",
    "    axs[0].bar(grid, evr)\n",
    "    axs[0].set(\n",
    "        xlabel=\"Component\", title=\"% Explained Variance\", ylim=(0.0, 1.0)\n",
    "    )\n",
    "    cv = np.cumsum(evr)\n",
    "    axs[1].plot(np.r_[0, grid], np.r_[0, cv], \"o-\")\n",
    "    axs[1].set(\n",
    "        xlabel=\"Component\", title=\"% Cumulative Variance\", ylim=(0.0, 1.0)\n",
    "    )\n",
    "    fig.set(figwidth=8, dpi=100)\n",
    "    return axs\n",
    "\n",
    "def distribution_plots(h, w, X_train):\n",
    "    fig3, ax3 = plt.subplots(h, w, sharex=True,figsize=(8, 8))\n",
    "    axes_list = [item for sublist in ax3 for item in sublist]\n",
    "    for col in X_train.columns:\n",
    "        ax=axes_list.pop(0)\n",
    "        sns.distplot(X_train[col], ax=ax)\n",
    "\n",
    "    for ax in axes_list:\n",
    "        ax.remove()"
   ],
   "outputs": []
  },
  {
   "cell_type": "markdown",
   "id": "9f42bf46-f3a4-4186-8009-3bb8a508915e",
   "metadata": {
    "jp-MarkdownHeadingCollapsed": true,
    "id": "9f42bf46-f3a4-4186-8009-3bb8a508915e"
   },
   "source": [
    "# Метрики классификации"
   ]
  },
  {
   "cell_type": "code",
   "execution_count": 271,
   "id": "acc88e93-a039-4506-81de-27147271e86a",
   "metadata": {
    "id": "acc88e93-a039-4506-81de-27147271e86a"
   },
   "source": [
    "def output_metrics_classification(y_test: pd.Series, preds: pd.Series):\n",
    "    report = classification_report(y_test, preds, target_names=['Non-fail', 'Fail'])\n",
    "    print(report)\n",
    "\n",
    "def output_roc_auc(y_test: pd.Series, preds: pd.Series):\n",
    "    sns.set(font_scale=1.5)\n",
    "    sns.set_color_codes(\"muted\")\n",
    "\n",
    "    plt.figure(figsize=(5, 4))\n",
    "    fpr, tpr, thresholds = roc_curve(y_test, preds, pos_label=1)\n",
    "    lw = 2\n",
    "    plt.plot(fpr, tpr, lw=lw, label='ROC curve ')\n",
    "    plt.plot([0, 1], [0, 1])\n",
    "    plt.xlim([0.0, 1.0])\n",
    "    plt.ylim([0.0, 1.05])\n",
    "    plt.xlabel('False Positive Rate')\n",
    "    plt.ylabel('True Positive Rate')\n",
    "    plt.title('ROC curve')\n",
    "    plt.savefig(\"ROC.png\")\n",
    "    plt.show()"
   ],
   "outputs": []
  },
  {
   "cell_type": "markdown",
   "id": "22129f6f-598c-4e86-b9c2-3c7fde94ffab",
   "metadata": {
    "id": "22129f6f-598c-4e86-b9c2-3c7fde94ffab"
   },
   "source": [
    "# EDA: Influencers in Social Networks"
   ]
  },
  {
   "cell_type": "code",
   "execution_count": 272,
   "id": "5c7eef60-06c9-4cc8-9ad3-0b4c4b00e115",
   "metadata": {
    "colab": {
     "base_uri": "https://localhost:8080/",
     "height": 0
    },
    "id": "5c7eef60-06c9-4cc8-9ad3-0b4c4b00e115",
    "outputId": "f446d339-0eec-446b-c649-9be58c5cdf1b"
   },
   "source": [
    "data = pd.read_csv('train_recommend.csv')\n",
    "X = data\n",
    "y = X['Choice']\n",
    "y[y == 0] = -1\n",
    "X = X.drop('Choice', axis=1, inplace=False)\n",
    "data.describe()"
   ],
   "outputs": []
  },
  {
   "cell_type": "markdown",
   "id": "6a46e1c3-e1cc-4beb-b02c-539e749c7ec4",
   "metadata": {
    "id": "6a46e1c3-e1cc-4beb-b02c-539e749c7ec4"
   },
   "source": [
    "## Чекаем дупликаты"
   ]
  },
  {
   "cell_type": "code",
   "execution_count": 273,
   "id": "ae1f532e-24f5-4608-8c6b-513caac51ad1",
   "metadata": {
    "colab": {
     "base_uri": "https://localhost:8080/"
    },
    "id": "ae1f532e-24f5-4608-8c6b-513caac51ad1",
    "outputId": "9d6a7898-d1c9-4115-bb11-87aa58f08281"
   },
   "source": [
    "print(f\"Number of missing value:{data.isna().sum().sum()}\")"
   ],
   "outputs": []
  },
  {
   "cell_type": "markdown",
   "id": "f134f16b-e51a-40cc-be52-15be999eef78",
   "metadata": {
    "id": "f134f16b-e51a-40cc-be52-15be999eef78"
   },
   "source": [
    "## Смотрим распределение"
   ]
  },
  {
   "cell_type": "code",
   "execution_count": 274,
   "id": "4bcf176e-56a0-447d-a836-e8251ff5c5d8",
   "metadata": {
    "colab": {
     "base_uri": "https://localhost:8080/",
     "height": 0
    },
    "id": "4bcf176e-56a0-447d-a836-e8251ff5c5d8",
    "outputId": "ddd1a1cd-f9b4-49a1-f56d-fa0e24c1c821"
   },
   "source": [
    "show_histplot(data)"
   ],
   "outputs": []
  },
  {
   "cell_type": "markdown",
   "source": [
    "## Смотрим на выбросы"
   ],
   "metadata": {
    "id": "MDYkDp_MDMfP"
   },
   "id": "MDYkDp_MDMfP"
  },
  {
   "cell_type": "markdown",
   "source": [
    "### Ящик с усами"
   ],
   "metadata": {
    "id": "vhYuB4frDcty"
   },
   "id": "vhYuB4frDcty"
  },
  {
   "cell_type": "code",
   "source": [
    "[get_boxplot(data[column], column) for column in data.columns]"
   ],
   "metadata": {
    "colab": {
     "base_uri": "https://localhost:8080/",
     "height": 0
    },
    "id": "QADMvIOsDPk9",
    "outputId": "a020c949-0066-45e4-d2ab-f7f8886edf74"
   },
   "id": "QADMvIOsDPk9",
   "execution_count": 275,
   "outputs": []
  },
  {
   "cell_type": "markdown",
   "source": [
    "### Смотрим на выбросы в процентах"
   ],
   "metadata": {
    "id": "77j1kFKUDhSv"
   },
   "id": "77j1kFKUDhSv"
  },
  {
   "cell_type": "code",
   "source": [
    "def find_outliers(df):\n",
    "    outliers = {}\n",
    "    for col in df.columns:\n",
    "        v = df[col]\n",
    "        q1 = v.quantile(0.25)\n",
    "        q3 = v.quantile(0.75)\n",
    "        iqr = q3 - q1\n",
    "        lower_bound = q1 - 1.5 * iqr\n",
    "        upper_bound = q3 + 1.5 * iqr\n",
    "        outliers_count = ((v < lower_bound) | (v > upper_bound)).sum()\n",
    "        perc = outliers_count * 100.0 / len(df)\n",
    "        outliers[col] = (perc, outliers_count)\n",
    "        print(f\"Column {col} outliers = {perc:.2f}%\")\n",
    "\n",
    "    return outliers\n",
    "\n",
    "outliers = find_outliers(data)"
   ],
   "metadata": {
    "colab": {
     "base_uri": "https://localhost:8080/"
    },
    "id": "FMDYdO3sDlRb",
    "outputId": "3f200d17-d995-4169-bf48-f8c1e5b18b63"
   },
   "id": "FMDYdO3sDlRb",
   "execution_count": 276,
   "outputs": []
  },
  {
   "cell_type": "markdown",
   "source": [
    "## Тепловая карта"
   ],
   "metadata": {
    "id": "LjrfRJwkDxC2"
   },
   "id": "LjrfRJwkDxC2"
  },
  {
   "cell_type": "code",
   "source": [
    "sns.heatmap(data.corr(method='spearman'), vmin=-1, vmax=1, center= 0, cmap= 'coolwarm')"
   ],
   "metadata": {
    "colab": {
     "base_uri": "https://localhost:8080/",
     "height": 0
    },
    "id": "dzW-4vzJDyxf",
    "outputId": "dde36e74-4af4-451a-82b8-a53b44306835"
   },
   "id": "dzW-4vzJDyxf",
   "execution_count": 277,
   "outputs": []
  },
  {
   "cell_type": "markdown",
   "source": [
    "**Вывод из тепловой карты:**\n",
    "\n",
    "Такое ощущение, что B-признаки просто не влияют на таргет, но давайте посмотрим взаимную информацию, хотя интуитивно они должны влиять."
   ],
   "metadata": {
    "id": "Zyc8H2_KHGqz"
   },
   "id": "Zyc8H2_KHGqz"
  },
  {
   "cell_type": "markdown",
   "source": [
    "## Mutual Information"
   ],
   "metadata": {
    "id": "kaD1jD0sHU12"
   },
   "id": "kaD1jD0sHU12"
  },
  {
   "cell_type": "code",
   "source": [
    "X['mean'] = X[X.columns].mean(axis=1)\n",
    "X['std'] = X[X.columns].std(axis=1)\n",
    "X['max'] = X[X.columns].max(axis=1)\n",
    "X['median'] = X[X.columns].median(axis=1)"
   ],
   "metadata": {
    "id": "Ek8z_WgEJFt1"
   },
   "id": "Ek8z_WgEJFt1",
   "execution_count": 278,
   "outputs": []
  },
  {
   "cell_type": "code",
   "source": [
    "def make_mi_scores(X, y, discrete_features):\n",
    "    mi_scores = mutual_info_regression(X, y, discrete_features=discrete_features)\n",
    "    mi_scores = pd.Series(mi_scores, name=\"MI Scores\", index=X.columns)\n",
    "    mi_scores = mi_scores.sort_values(ascending=False)\n",
    "    return mi_scores\n",
    "\n",
    "def plot_mi_scores(scores):\n",
    "    scores = scores.sort_values(ascending=True)\n",
    "    width = np.arange(len(scores))\n",
    "    ticks = list(scores.index)\n",
    "    plt.barh(width, scores)\n",
    "    plt.yticks(width, ticks)\n",
    "    plt.title(\"Mutual Information Scores\")\n",
    "\n",
    "discrete_features = X.dtypes == int\n",
    "mi_scores = make_mi_scores(X, y, discrete_features)\n",
    "mi_scores[::3]\n",
    "plt.figure(dpi=100, figsize=(8, 5))\n",
    "plot_mi_scores(mi_scores)"
   ],
   "metadata": {
    "colab": {
     "base_uri": "https://localhost:8080/",
     "height": 0
    },
    "id": "TWLi-Hx9HYPy",
    "outputId": "6b46ae31-1c87-49fc-909f-916f3503b157"
   },
   "id": "TWLi-Hx9HYPy",
   "execution_count": 279,
   "outputs": []
  },
  {
   "cell_type": "markdown",
   "source": [
    "**Итог из взаимной информации:**\n",
    "\n",
    "Вывод из тепловой карты оказался неправильным, ведь как мы видим имеется взаимосвязь между таргетом и B-признаками.\n",
    "\n",
    "А еще нет смысла добавлять mean/max/std/median."
   ],
   "metadata": {
    "id": "Wmh8v9q-HxBF"
   },
   "id": "Wmh8v9q-HxBF"
  },
  {
   "cell_type": "markdown",
   "source": [
    "# Feature Engineering"
   ],
   "metadata": {
    "id": "BseahlEuIR9l"
   },
   "id": "BseahlEuIR9l"
  },
  {
   "cell_type": "code",
   "source": [
    "X = X.drop(['mean', 'max', 'median', 'std'], axis=1)"
   ],
   "metadata": {
    "id": "BLvPupM3IVZn"
   },
   "id": "BLvPupM3IVZn",
   "execution_count": 280,
   "outputs": []
  },
  {
   "cell_type": "markdown",
   "source": [
    "## Scaling"
   ],
   "metadata": {
    "id": "Z5rNttkSLpxV"
   },
   "id": "Z5rNttkSLpxV"
  },
  {
   "cell_type": "markdown",
   "source": [
    "Можно по-разному масштабировать признаки:\n",
    "\n",
    "1) логирование\n",
    "\n",
    "2) MinMax\n",
    "\n",
    "3) Standart scaling"
   ],
   "metadata": {
    "id": "J91MQhdTLu7E"
   },
   "id": "J91MQhdTLu7E"
  },
  {
   "cell_type": "code",
   "source": [
    "def feature_transform(type_scaling, data):\n",
    "    if type_scaling == 'standard':\n",
    "        tran_fn = StandardScaler()\n",
    "    elif type_scaling =='minmax':\n",
    "        tran_fn = MinMaxScaler()\n",
    "    elif type_scaling =='log':\n",
    "        tran_fn = FunctionTransformer(np.log1p, validate=True)\n",
    "\n",
    "    transfx_data = tran_fn.fit_transform(data.astype(float))\n",
    "    transfx_data = pd.DataFrame(transfx_data, columns = data.columns)\n",
    "    return transfx_data\n",
    "\n",
    "X_minmax = feature_transform('minmax', X)\n",
    "X_standard = feature_transform('standard', X)\n",
    "X_log = feature_transform('log', X)"
   ],
   "metadata": {
    "id": "BDOIRBIwLtZH"
   },
   "id": "BDOIRBIwLtZH",
   "execution_count": 281,
   "outputs": []
  },
  {
   "cell_type": "code",
   "source": [
    "distribution_plots(4,3, X_log.iloc[:,:11])"
   ],
   "metadata": {
    "colab": {
     "base_uri": "https://localhost:8080/",
     "height": 719
    },
    "id": "fYmJ-YgVNSrs",
    "outputId": "be48d9c4-3754-4158-d6b9-f2936476681b"
   },
   "id": "fYmJ-YgVNSrs",
   "execution_count": 98,
   "outputs": []
  },
  {
   "cell_type": "code",
   "source": [
    "distribution_plots(4,3, X_standard.iloc[:,:11])"
   ],
   "metadata": {
    "colab": {
     "base_uri": "https://localhost:8080/",
     "height": 719
    },
    "id": "HyTCIxqBNyJv",
    "outputId": "eda8d82b-f19d-4152-e811-583f5dca2110"
   },
   "id": "HyTCIxqBNyJv",
   "execution_count": 99,
   "outputs": []
  },
  {
   "cell_type": "code",
   "source": [
    "distribution_plots(4,3, X_minmax.iloc[:,:11])"
   ],
   "metadata": {
    "colab": {
     "base_uri": "https://localhost:8080/",
     "height": 719
    },
    "id": "fwERCtHgOkua",
    "outputId": "90472936-594f-4eb4-8f5e-fd191abc51b0"
   },
   "id": "fwERCtHgOkua",
   "execution_count": 100,
   "outputs": []
  },
  {
   "cell_type": "markdown",
   "source": [
    "Поскольку признаки имеют ненормально распределение, то я бы использовала логарифмирование, к тому же с таким распределением легче будет прогнозировать."
   ],
   "metadata": {
    "id": "fcB1uK4uTC7k"
   },
   "id": "fcB1uK4uTC7k"
  },
  {
   "cell_type": "markdown",
   "source": [
    "## PCA"
   ],
   "metadata": {
    "id": "l0lQkxJeLnUX"
   },
   "id": "l0lQkxJeLnUX"
  },
  {
   "cell_type": "code",
   "source": [
    "X_scaled = (X - X.mean(axis=0)) / X.std(axis=0)\n",
    "pca = PCA()\n",
    "X_pca = pca.fit_transform(X_scaled)\n",
    "component_names = [f\"PC{i+1}\" for i in range(X_pca.shape[1])]\n",
    "X_pca = pd.DataFrame(X_pca, columns=component_names)\n",
    "\n",
    "new_pca_df = pd.DataFrame(\n",
    "    pca.components_.T,\n",
    "    columns=component_names,\n",
    "    index=X.columns,\n",
    ")\n",
    "plot_variance(pca)"
   ],
   "metadata": {
    "colab": {
     "base_uri": "https://localhost:8080/",
     "height": 556
    },
    "id": "rwIoU2GDIacG",
    "outputId": "719882bc-7d51-4aa3-d1d3-e45a7982b9ef"
   },
   "id": "rwIoU2GDIacG",
   "execution_count": 282,
   "outputs": []
  },
  {
   "cell_type": "markdown",
   "source": [
    "После 16 компоненты примерно уровень объясненной дисперсии не особо меняется."
   ],
   "metadata": {
    "id": "fSEqe9PDJw7Q"
   },
   "id": "fSEqe9PDJw7Q"
  },
  {
   "cell_type": "code",
   "source": [
    "X_scaled = (X - X.mean(axis=0)) / X.std(axis=0)\n",
    "pca = PCA(n_components=17)\n",
    "X_pca = pca.fit_transform(X_scaled)\n",
    "component_names = [f\"PC{i+1}\" for i in range(X_pca.shape[1])]\n",
    "X_pca = pd.DataFrame(X_pca, columns=component_names)\n",
    "\n",
    "pca_df = pd.DataFrame(\n",
    "    pca.components_.T,\n",
    "    columns=component_names,\n",
    "    index=X.columns,\n",
    ")\n",
    "X_pca"
   ],
   "metadata": {
    "colab": {
     "base_uri": "https://localhost:8080/",
     "height": 444
    },
    "id": "RiwgafPcJvzE",
    "outputId": "77772fc4-72d8-4572-d8f1-e84c04df2e10"
   },
   "id": "RiwgafPcJvzE",
   "execution_count": 283,
   "outputs": []
  },
  {
   "cell_type": "markdown",
   "id": "78f407ef-0956-437a-9c23-de5bc6bc89cb",
   "metadata": {
    "jp-MarkdownHeadingCollapsed": true,
    "id": "78f407ef-0956-437a-9c23-de5bc6bc89cb"
   },
   "source": [
    "# Матричное решение"
   ]
  },
  {
   "cell_type": "markdown",
   "source": [
    "## Обучение на логарифмированных данных"
   ],
   "metadata": {
    "id": "apjB4TpVUdYn"
   },
   "id": "apjB4TpVUdYn"
  },
  {
   "cell_type": "code",
   "execution_count": 111,
   "id": "ff6c5c58-ff96-4ee5-87fd-d98b55dd48c2",
   "metadata": {
    "colab": {
     "base_uri": "https://localhost:8080/",
     "height": 608
    },
    "id": "ff6c5c58-ff96-4ee5-87fd-d98b55dd48c2",
    "outputId": "73bb538c-7ef9-4747-df27-3cdebbb89d79"
   },
   "source": [
    "X_train, X_test, y_train, y_test = train_test_split(X_log, y, test_size=0.3, random_state=42)\n",
    "\n",
    "rid_reg = RidgeRegressionMatrix(lambda_=0.1)\n",
    "rid_reg.fit(X_train, y_train)\n",
    "prob_predictions = rid_reg.predict_proba(X_test)\n",
    "preds = rid_reg.predict(X_test)\n",
    "output_metrics_classification(y_test, preds)\n",
    "output_roc_auc(y_test, prob_predictions)"
   ],
   "outputs": []
  },
  {
   "cell_type": "markdown",
   "source": [
    "## Обучение на данных PCA"
   ],
   "metadata": {
    "id": "cy6-FKeFU7Oi"
   },
   "id": "cy6-FKeFU7Oi"
  },
  {
   "cell_type": "code",
   "source": [
    "X_train, X_test, y_train, y_test = train_test_split(X_pca, y, test_size=0.3, random_state=42)\n",
    "\n",
    "rid_reg = RidgeRegressionMatrix(lambda_=0.1)\n",
    "rid_reg.fit(X_train, y_train)\n",
    "prob_predictions = rid_reg.predict_proba(X_test)\n",
    "preds = rid_reg.predict(X_test)\n",
    "print(output_metrics_classification(y_test, preds))\n",
    "output_roc_auc(y_test, prob_predictions)"
   ],
   "metadata": {
    "colab": {
     "base_uri": "https://localhost:8080/",
     "height": 627
    },
    "id": "ABE_POHeU_uf",
    "outputId": "279b9d09-003c-480b-8e26-d0032cffa18d"
   },
   "id": "ABE_POHeU_uf",
   "execution_count": 108,
   "outputs": []
  },
  {
   "cell_type": "markdown",
   "source": [
    "## ИТОГ:\n",
    "\n",
    "Логарифмирование дало лучший результат."
   ],
   "metadata": {
    "id": "ilLTHKUoVegR"
   },
   "id": "ilLTHKUoVegR"
  },
  {
   "cell_type": "markdown",
   "id": "440d08d3-b9c3-4e87-af24-ae97491c7b14",
   "metadata": {
    "id": "440d08d3-b9c3-4e87-af24-ae97491c7b14"
   },
   "source": [
    "# Линейная регрессия"
   ]
  },
  {
   "cell_type": "code",
   "execution_count": 294,
   "id": "c4aee2b3-e2b7-466c-8d57-d2901695d64d",
   "metadata": {
    "colab": {
     "base_uri": "https://localhost:8080/",
     "height": 645
    },
    "id": "c4aee2b3-e2b7-466c-8d57-d2901695d64d",
    "outputId": "3e1813e1-e8c4-4646-b62e-a4e5fcec681b"
   },
   "source": [
    "X_train, X_test, y_train, y_test = train_test_split(X_pca, y, test_size=0.3, random_state=42)\n",
    "X_train, X_test, y_train, y_test = X_train.to_numpy(), X_test.to_numpy(), y_train.to_numpy(), y_test.to_numpy()\n",
    "\n",
    "model_reg = LinearRegression(learning_rate=0.1, max_epoches=100, size_batch=100, eps=0.000000001)\n",
    "model_reg.fit(X_train, y_train)\n",
    "\n",
    "linreg_preds = model_reg.predict(X_test)\n",
    "linreg_proba_preds = model_reg.predict_proba(X_test)\n",
    "\n",
    "print(output_metrics_classification(y_test, linreg_preds))\n",
    "output_roc_auc(y_test, linreg_proba_preds)"
   ],
   "outputs": []
  },
  {
   "cell_type": "markdown",
   "source": [
    "**Вывод:**\n",
    "\n",
    "Результат мягко говоря не очень, но я точно уверена, что дело не в неправильной реализации линейной регрессии, так как я проверяла ту же реализацию на других датасетах (на Ирисе я получила Recall и Precision равными 1).\n",
    "\n",
    "Нужно подумать, что здесь надо сделать"
   ],
   "metadata": {
    "id": "ek4ahI4c4Qb6"
   },
   "id": "ek4ahI4c4Qb6"
  }
 ],
 "metadata": {
  "kernelspec": {
   "display_name": "Python 3 (ipykernel)",
   "language": "python",
   "name": "python3"
  },
  "language_info": {
   "codemirror_mode": {
    "name": "ipython",
    "version": 3
   },
   "file_extension": ".py",
   "mimetype": "text/x-python",
   "name": "python",
   "nbconvert_exporter": "python",
   "pygments_lexer": "ipython3",
   "version": "3.10.0"
  },
  "colab": {
   "provenance": [],
   "collapsed_sections": [
    "49074f3a-c4de-4e0d-80b8-c43c1f666f17",
    "YJtD3gxaKRvU",
    "4e034b58-2cc8-4a91-ad20-c565795bd529",
    "9f42bf46-f3a4-4186-8009-3bb8a508915e",
    "22129f6f-598c-4e86-b9c2-3c7fde94ffab",
    "6a46e1c3-e1cc-4beb-b02c-539e749c7ec4",
    "f134f16b-e51a-40cc-be52-15be999eef78",
    "MDYkDp_MDMfP",
    "vhYuB4frDcty",
    "77j1kFKUDhSv",
    "LjrfRJwkDxC2",
    "kaD1jD0sHU12",
    "BseahlEuIR9l",
    "Z5rNttkSLpxV",
    "l0lQkxJeLnUX",
    "78f407ef-0956-437a-9c23-de5bc6bc89cb",
    "apjB4TpVUdYn",
    "cy6-FKeFU7Oi",
    "440d08d3-b9c3-4e87-af24-ae97491c7b14"
   ]
  }
 },
 "nbformat": 4,
 "nbformat_minor": 5
}
